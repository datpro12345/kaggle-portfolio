{
 "cells": [
  {
   "cell_type": "code",
   "execution_count": null,
   "id": "initial_id",
   "metadata": {
    "collapsed": true
   },
   "outputs": [],
   "source": [
    ""
   ]
  },
  {
   "metadata": {},
   "cell_type": "markdown",
   "source": [
    "# Scaling\n",
    "\n",
    "Scaling transforms the columns in order to make them have the **same order of magnitude**. Sometimes it's necessary because different orders of magnitude may affect the importance of the features *perceived* by the model.\n",
    "\n",
    "It doesn't change the correlation between the features and the target, so it doesn't affect the predictive power of the features.\n",
    "\n",
    "Additionally, some models require features that are in an interval around 0 (logistic regression, KNN, neural networks...)"
   ],
   "id": "f7a636ecbc20a3da"
  },
  {
   "metadata": {},
   "cell_type": "markdown",
   "source": [
    "# 5.1 Normalization, Standardization and Robust Scaling:\n",
    "\n"
   ],
   "id": "5aa20ad0688fc8e8"
  },
  {
   "metadata": {
    "ExecuteTime": {
     "end_time": "2024-09-27T04:07:56.479574Z",
     "start_time": "2024-09-27T04:07:56.133544Z"
    }
   },
   "cell_type": "code",
   "source": "import pandas as pd",
   "id": "e5da9580e42f8ae8",
   "outputs": [],
   "execution_count": 1
  },
  {
   "metadata": {
    "ExecuteTime": {
     "end_time": "2024-09-27T04:08:06.882262Z",
     "start_time": "2024-09-27T04:08:06.868758Z"
    }
   },
   "cell_type": "code",
   "source": "df = pd.read_csv(\"sample_dataset.csv\")",
   "id": "313567f883c9e830",
   "outputs": [],
   "execution_count": 2
  },
  {
   "metadata": {
    "ExecuteTime": {
     "end_time": "2024-09-27T04:08:38.488899Z",
     "start_time": "2024-09-27T04:08:38.484078Z"
    }
   },
   "cell_type": "code",
   "source": "X = df.iloc[:,0:3].dropna()",
   "id": "94ef1c29a8eab34d",
   "outputs": [],
   "execution_count": 3
  },
  {
   "metadata": {
    "ExecuteTime": {
     "end_time": "2024-09-27T04:08:42.230483Z",
     "start_time": "2024-09-27T04:08:42.218433Z"
    }
   },
   "cell_type": "code",
   "source": "X",
   "id": "5741e17ca23d4c",
   "outputs": [
    {
     "data": {
      "text/plain": [
       "     mean radius  mean texture  mean perimeter\n",
       "1          20.57         17.77          132.90\n",
       "2          19.69         21.25          130.00\n",
       "3          11.42         20.38           77.58\n",
       "5          12.45         15.70           82.57\n",
       "7          13.71         20.83           90.20\n",
       "..           ...           ...             ...\n",
       "562        15.22         30.62          103.40\n",
       "563        20.92         25.09          143.00\n",
       "564        21.56         22.39          142.00\n",
       "566        16.60         28.08          108.30\n",
       "567        20.60         29.33          140.10\n",
       "\n",
       "[385 rows x 3 columns]"
      ],
      "text/html": [
       "<div>\n",
       "<style scoped>\n",
       "    .dataframe tbody tr th:only-of-type {\n",
       "        vertical-align: middle;\n",
       "    }\n",
       "\n",
       "    .dataframe tbody tr th {\n",
       "        vertical-align: top;\n",
       "    }\n",
       "\n",
       "    .dataframe thead th {\n",
       "        text-align: right;\n",
       "    }\n",
       "</style>\n",
       "<table border=\"1\" class=\"dataframe\">\n",
       "  <thead>\n",
       "    <tr style=\"text-align: right;\">\n",
       "      <th></th>\n",
       "      <th>mean radius</th>\n",
       "      <th>mean texture</th>\n",
       "      <th>mean perimeter</th>\n",
       "    </tr>\n",
       "  </thead>\n",
       "  <tbody>\n",
       "    <tr>\n",
       "      <th>1</th>\n",
       "      <td>20.57</td>\n",
       "      <td>17.77</td>\n",
       "      <td>132.90</td>\n",
       "    </tr>\n",
       "    <tr>\n",
       "      <th>2</th>\n",
       "      <td>19.69</td>\n",
       "      <td>21.25</td>\n",
       "      <td>130.00</td>\n",
       "    </tr>\n",
       "    <tr>\n",
       "      <th>3</th>\n",
       "      <td>11.42</td>\n",
       "      <td>20.38</td>\n",
       "      <td>77.58</td>\n",
       "    </tr>\n",
       "    <tr>\n",
       "      <th>5</th>\n",
       "      <td>12.45</td>\n",
       "      <td>15.70</td>\n",
       "      <td>82.57</td>\n",
       "    </tr>\n",
       "    <tr>\n",
       "      <th>7</th>\n",
       "      <td>13.71</td>\n",
       "      <td>20.83</td>\n",
       "      <td>90.20</td>\n",
       "    </tr>\n",
       "    <tr>\n",
       "      <th>...</th>\n",
       "      <td>...</td>\n",
       "      <td>...</td>\n",
       "      <td>...</td>\n",
       "    </tr>\n",
       "    <tr>\n",
       "      <th>562</th>\n",
       "      <td>15.22</td>\n",
       "      <td>30.62</td>\n",
       "      <td>103.40</td>\n",
       "    </tr>\n",
       "    <tr>\n",
       "      <th>563</th>\n",
       "      <td>20.92</td>\n",
       "      <td>25.09</td>\n",
       "      <td>143.00</td>\n",
       "    </tr>\n",
       "    <tr>\n",
       "      <th>564</th>\n",
       "      <td>21.56</td>\n",
       "      <td>22.39</td>\n",
       "      <td>142.00</td>\n",
       "    </tr>\n",
       "    <tr>\n",
       "      <th>566</th>\n",
       "      <td>16.60</td>\n",
       "      <td>28.08</td>\n",
       "      <td>108.30</td>\n",
       "    </tr>\n",
       "    <tr>\n",
       "      <th>567</th>\n",
       "      <td>20.60</td>\n",
       "      <td>29.33</td>\n",
       "      <td>140.10</td>\n",
       "    </tr>\n",
       "  </tbody>\n",
       "</table>\n",
       "<p>385 rows × 3 columns</p>\n",
       "</div>"
      ]
     },
     "execution_count": 4,
     "metadata": {},
     "output_type": "execute_result"
    }
   ],
   "execution_count": 4
  },
  {
   "metadata": {},
   "cell_type": "markdown",
   "source": [
    "## 5.1 Normalization (Mix - Max Scaling)\n",
    "\n",
    "- Transforms the data to specified range, usually [0,1]."
   ],
   "id": "357d0dbe9c7f3096"
  },
  {
   "metadata": {
    "ExecuteTime": {
     "end_time": "2024-09-27T04:09:49.364443Z",
     "start_time": "2024-09-27T04:09:48.977164Z"
    }
   },
   "cell_type": "code",
   "source": "from sklearn.preprocessing import MinMaxScaler",
   "id": "fb4a8e21fd3a2504",
   "outputs": [],
   "execution_count": 5
  },
  {
   "metadata": {
    "ExecuteTime": {
     "end_time": "2024-09-27T04:09:58.096482Z",
     "start_time": "2024-09-27T04:09:58.093191Z"
    }
   },
   "cell_type": "code",
   "source": "scaler = MinMaxScaler()",
   "id": "9e595ad35231253b",
   "outputs": [],
   "execution_count": 6
  },
  {
   "metadata": {
    "ExecuteTime": {
     "end_time": "2024-09-27T04:12:22.050649Z",
     "start_time": "2024-09-27T04:12:22.045185Z"
    }
   },
   "cell_type": "code",
   "source": "X_scaled = scaler.fit_transform(X)",
   "id": "e321e3372ca79cff",
   "outputs": [],
   "execution_count": 12
  },
  {
   "metadata": {
    "ExecuteTime": {
     "end_time": "2024-09-27T04:12:26.542009Z",
     "start_time": "2024-09-27T04:12:26.537063Z"
    }
   },
   "cell_type": "code",
   "source": "X_scaled",
   "id": "4f3d6680ded218c8",
   "outputs": [
    {
     "data": {
      "text/plain": [
       "array([[0.63004759, 0.27257355, 0.60432679],\n",
       "       [0.58687012, 0.3902604 , 0.58368915],\n",
       "       [0.18110004, 0.36083869, 0.21064617],\n",
       "       ...,\n",
       "       [0.67862225, 0.42881299, 0.66908625],\n",
       "       [0.43525833, 0.62123774, 0.42926274],\n",
       "       [0.63151955, 0.66351031, 0.65556504]])"
      ]
     },
     "execution_count": 13,
     "metadata": {},
     "output_type": "execute_result"
    }
   ],
   "execution_count": 13
  },
  {
   "metadata": {
    "ExecuteTime": {
     "end_time": "2024-09-27T04:10:43.456692Z",
     "start_time": "2024-09-27T04:10:43.454292Z"
    }
   },
   "cell_type": "code",
   "source": "import numpy as np",
   "id": "cc12e6afb3212958",
   "outputs": [],
   "execution_count": 9
  },
  {
   "metadata": {
    "ExecuteTime": {
     "end_time": "2024-09-27T04:12:31.421584Z",
     "start_time": "2024-09-27T04:12:31.416652Z"
    }
   },
   "cell_type": "code",
   "source": "np.apply_over_axes(np.max, X_scaled, 0)",
   "id": "aff56c1c9ab693d1",
   "outputs": [
    {
     "data": {
      "text/plain": [
       "array([[1., 1., 1.]])"
      ]
     },
     "execution_count": 14,
     "metadata": {},
     "output_type": "execute_result"
    }
   ],
   "execution_count": 14
  },
  {
   "metadata": {
    "ExecuteTime": {
     "end_time": "2024-09-27T04:12:34.266503Z",
     "start_time": "2024-09-27T04:12:34.261362Z"
    }
   },
   "cell_type": "code",
   "source": "np.apply_over_axes(np.min, X_scaled, 0)",
   "id": "bcb31bccc0c2b3a8",
   "outputs": [
    {
     "data": {
      "text/plain": [
       "array([[0., 0., 0.]])"
      ]
     },
     "execution_count": 15,
     "metadata": {},
     "output_type": "execute_result"
    }
   ],
   "execution_count": 15
  },
  {
   "metadata": {},
   "cell_type": "markdown",
   "source": [
    "## 5.2 Standardization  (Z-score scaling):\n",
    "\n",
    "- Transforms the data to have a mean of 0 and a standard deviation of 1."
   ],
   "id": "d4304882d7f79d95"
  },
  {
   "metadata": {
    "ExecuteTime": {
     "end_time": "2024-09-27T04:18:15.493286Z",
     "start_time": "2024-09-27T04:18:15.490161Z"
    }
   },
   "cell_type": "code",
   "source": "from sklearn.preprocessing import StandardScaler",
   "id": "e12c2cfdfd2fd041",
   "outputs": [],
   "execution_count": 16
  },
  {
   "metadata": {
    "ExecuteTime": {
     "end_time": "2024-09-27T04:20:28.616161Z",
     "start_time": "2024-09-27T04:20:28.610870Z"
    }
   },
   "cell_type": "code",
   "source": [
    "scaler = StandardScaler()\n",
    "\n",
    "X_scaled = scaler.fit_transform(X)"
   ],
   "id": "79b4861df27c90b6",
   "outputs": [],
   "execution_count": 18
  },
  {
   "metadata": {
    "ExecuteTime": {
     "end_time": "2024-09-27T04:20:39.441781Z",
     "start_time": "2024-09-27T04:20:39.437644Z"
    }
   },
   "cell_type": "code",
   "source": "X_scaled",
   "id": "70a9cbb58d2f4b71",
   "outputs": [
    {
     "data": {
      "text/plain": [
       "array([[ 1.87149535, -0.35527432,  1.7252216 ],\n",
       "       [ 1.61663638,  0.44774298,  1.6034021 ],\n",
       "       [-0.77845877,  0.24698866, -0.59859036],\n",
       "       ...,\n",
       "       [ 2.1582117 ,  0.71080038,  2.10748279],\n",
       "       [ 0.72173384,  2.02377982,  0.6918562 ],\n",
       "       [ 1.88018373,  2.31221994,  2.02767001]])"
      ]
     },
     "execution_count": 20,
     "metadata": {},
     "output_type": "execute_result"
    }
   ],
   "execution_count": 20
  },
  {
   "metadata": {
    "ExecuteTime": {
     "end_time": "2024-09-27T04:20:57.182208Z",
     "start_time": "2024-09-27T04:20:57.177486Z"
    }
   },
   "cell_type": "code",
   "source": "np.apply_over_axes(np.mean, X_scaled, 0)",
   "id": "c13ea1b1bbdfeeca",
   "outputs": [
    {
     "data": {
      "text/plain": [
       "array([[-7.38226219e-17, -2.86062660e-16, -1.84556555e-17]])"
      ]
     },
     "execution_count": 21,
     "metadata": {},
     "output_type": "execute_result"
    }
   ],
   "execution_count": 21
  },
  {
   "metadata": {
    "ExecuteTime": {
     "end_time": "2024-09-27T04:21:54.734836Z",
     "start_time": "2024-09-27T04:21:54.731796Z"
    }
   },
   "cell_type": "code",
   "source": "np.apply_over_axes(np.var, X_scaled, 0)",
   "id": "46d73bc943cb29c0",
   "outputs": [
    {
     "data": {
      "text/plain": [
       "array([[1., 1., 1.]])"
      ]
     },
     "execution_count": 23,
     "metadata": {},
     "output_type": "execute_result"
    }
   ],
   "execution_count": 23
  },
  {
   "metadata": {},
   "cell_type": "markdown",
   "source": [
    "##  5.3 Robust scaling\n",
    "\n",
    "Uses the median and interquartile range (IQR) to scale the data, which is less sensitive to outliers.   "
   ],
   "id": "e9f3c0f32cfd502a"
  },
  {
   "metadata": {
    "ExecuteTime": {
     "end_time": "2024-09-27T04:22:38.390711Z",
     "start_time": "2024-09-27T04:22:38.388737Z"
    }
   },
   "cell_type": "code",
   "source": "from sklearn.preprocessing import RobustScaler",
   "id": "85e19b250285cd8c",
   "outputs": [],
   "execution_count": 24
  },
  {
   "metadata": {
    "ExecuteTime": {
     "end_time": "2024-09-27T04:24:41.506038Z",
     "start_time": "2024-09-27T04:24:41.504079Z"
    }
   },
   "cell_type": "code",
   "source": "scaler = RobustScaler()",
   "id": "282b39426c1843a6",
   "outputs": [],
   "execution_count": 26
  },
  {
   "metadata": {
    "ExecuteTime": {
     "end_time": "2024-09-27T04:24:53.196563Z",
     "start_time": "2024-09-27T04:24:53.191473Z"
    }
   },
   "cell_type": "code",
   "source": "X_scaled = scaler.fit_transform(X)",
   "id": "e343fe337955a0fb",
   "outputs": [],
   "execution_count": 27
  },
  {
   "metadata": {
    "ExecuteTime": {
     "end_time": "2024-09-27T04:24:56.569454Z",
     "start_time": "2024-09-27T04:24:56.565197Z"
    }
   },
   "cell_type": "code",
   "source": "X_scaled",
   "id": "9c844aaeab3a5c44",
   "outputs": [
    {
     "data": {
      "text/plain": [
       "array([[ 1.78484108, -0.18650089,  1.64689365],\n",
       "       [ 1.56968215,  0.43161634,  1.54510355],\n",
       "       [-0.45232274,  0.27708703, -0.29484029],\n",
       "       ...,\n",
       "       [ 2.02689487,  0.63410302,  1.96630397],\n",
       "       [ 0.81418093,  1.64476021,  0.78343278],\n",
       "       [ 1.79217604,  1.86678508,  1.8996139 ]])"
      ]
     },
     "execution_count": 28,
     "metadata": {},
     "output_type": "execute_result"
    }
   ],
   "execution_count": 28
  },
  {
   "metadata": {
    "ExecuteTime": {
     "end_time": "2024-09-27T04:25:17.835157Z",
     "start_time": "2024-09-27T04:25:17.830578Z"
    }
   },
   "cell_type": "code",
   "source": "np.apply_over_axes(np.median, X_scaled, 0)",
   "id": "dbf3dd170c4e6ebb",
   "outputs": [
    {
     "data": {
      "text/plain": [
       "array([[0., 0., 0.]])"
      ]
     },
     "execution_count": 29,
     "metadata": {},
     "output_type": "execute_result"
    }
   ],
   "execution_count": 29
  },
  {
   "metadata": {
    "ExecuteTime": {
     "end_time": "2024-09-27T04:27:12.337528Z",
     "start_time": "2024-09-27T04:27:12.334901Z"
    }
   },
   "cell_type": "code",
   "source": "scaler.inverse_transform(X_scaled)",
   "id": "1bc8fb85ceb3868b",
   "outputs": [
    {
     "data": {
      "text/plain": [
       "array([[ 20.57,  17.77, 132.9 ],\n",
       "       [ 19.69,  21.25, 130.  ],\n",
       "       [ 11.42,  20.38,  77.58],\n",
       "       ...,\n",
       "       [ 21.56,  22.39, 142.  ],\n",
       "       [ 16.6 ,  28.08, 108.3 ],\n",
       "       [ 20.6 ,  29.33, 140.1 ]])"
      ]
     },
     "execution_count": 30,
     "metadata": {},
     "output_type": "execute_result"
    }
   ],
   "execution_count": 30
  },
  {
   "metadata": {
    "ExecuteTime": {
     "end_time": "2024-09-27T04:27:19.201191Z",
     "start_time": "2024-09-27T04:27:19.193375Z"
    }
   },
   "cell_type": "code",
   "source": "X.head(3)",
   "id": "4979adcbdeab05c",
   "outputs": [
    {
     "data": {
      "text/plain": [
       "   mean radius  mean texture  mean perimeter\n",
       "1        20.57         17.77          132.90\n",
       "2        19.69         21.25          130.00\n",
       "3        11.42         20.38           77.58"
      ],
      "text/html": [
       "<div>\n",
       "<style scoped>\n",
       "    .dataframe tbody tr th:only-of-type {\n",
       "        vertical-align: middle;\n",
       "    }\n",
       "\n",
       "    .dataframe tbody tr th {\n",
       "        vertical-align: top;\n",
       "    }\n",
       "\n",
       "    .dataframe thead th {\n",
       "        text-align: right;\n",
       "    }\n",
       "</style>\n",
       "<table border=\"1\" class=\"dataframe\">\n",
       "  <thead>\n",
       "    <tr style=\"text-align: right;\">\n",
       "      <th></th>\n",
       "      <th>mean radius</th>\n",
       "      <th>mean texture</th>\n",
       "      <th>mean perimeter</th>\n",
       "    </tr>\n",
       "  </thead>\n",
       "  <tbody>\n",
       "    <tr>\n",
       "      <th>1</th>\n",
       "      <td>20.57</td>\n",
       "      <td>17.77</td>\n",
       "      <td>132.90</td>\n",
       "    </tr>\n",
       "    <tr>\n",
       "      <th>2</th>\n",
       "      <td>19.69</td>\n",
       "      <td>21.25</td>\n",
       "      <td>130.00</td>\n",
       "    </tr>\n",
       "    <tr>\n",
       "      <th>3</th>\n",
       "      <td>11.42</td>\n",
       "      <td>20.38</td>\n",
       "      <td>77.58</td>\n",
       "    </tr>\n",
       "  </tbody>\n",
       "</table>\n",
       "</div>"
      ]
     },
     "execution_count": 32,
     "metadata": {},
     "output_type": "execute_result"
    }
   ],
   "execution_count": 32
  },
  {
   "metadata": {},
   "cell_type": "markdown",
   "source": [
    "### Learnings from `5-scaling.ipynb`\n",
    "\n",
    "**Pseudocode:**\n",
    "1. Import necessary libraries.\n",
    "2. Load and preprocess the dataset.\n",
    "3. Apply different scaling techniques: Normalization, Standardization, and Robust Scaling.\n",
    "4. Observe the results of each scaling technique.\n",
    "\n",
    "**Code:**\n",
    "```python\n",
    "# Import necessary libraries\n",
    "import pandas as pd\n",
    "import numpy as np\n",
    "from sklearn.preprocessing import MinMaxScaler, StandardScaler, RobustScaler\n",
    "\n",
    "# Load and preprocess the dataset\n",
    "df = pd.read_csv(\"sample_dataset.csv\")\n",
    "X = df.iloc[:, 0:3].dropna()\n",
    "\n",
    "# Normalization (Min-Max Scaling)\n",
    "min_max_scaler = MinMaxScaler()\n",
    "X_min_max_scaled = min_max_scaler.fit_transform(X)\n",
    "\n",
    "# Standardization (Z-score scaling)\n",
    "standard_scaler = StandardScaler()\n",
    "X_standard_scaled = standard_scaler.fit_transform(X)\n",
    "\n",
    "# Robust Scaling\n",
    "robust_scaler = RobustScaler()\n",
    "X_robust_scaled = robust_scaler.fit_transform(X)\n",
    "```\n",
    "\n",
    "**Learnings:**\n",
    "1. **Normalization (Min-Max Scaling):** Transforms the data to a specified range, usually \\[0,1\\].\n",
    "2. **Standardization (Z-score scaling):** Transforms the data to have a mean of 0 and a standard deviation of 1.\n",
    "3. **Robust Scaling:** Uses the median and interquartile range (IQR) to scale the data, which is less sensitive to outliers."
   ],
   "id": "a37f8ea91631b9da"
  },
  {
   "metadata": {},
   "cell_type": "markdown",
   "source": [
    "## Exercises\n",
    "\n",
    "- Load sample_datset.csv\n",
    "- Numerical variables must be cleaned using the median value, the normalized\n",
    "- Change the scaler to sandard scaler and transform the dataset again"
   ],
   "id": "5949ab1854c1edf5"
  },
  {
   "metadata": {},
   "cell_type": "code",
   "outputs": [],
   "execution_count": null,
   "source": "",
   "id": "f03adf2ebea8580b"
  }
 ],
 "metadata": {
  "kernelspec": {
   "display_name": "Python 3",
   "language": "python",
   "name": "python3"
  },
  "language_info": {
   "codemirror_mode": {
    "name": "ipython",
    "version": 2
   },
   "file_extension": ".py",
   "mimetype": "text/x-python",
   "name": "python",
   "nbconvert_exporter": "python",
   "pygments_lexer": "ipython2",
   "version": "2.7.6"
  }
 },
 "nbformat": 4,
 "nbformat_minor": 5
}
