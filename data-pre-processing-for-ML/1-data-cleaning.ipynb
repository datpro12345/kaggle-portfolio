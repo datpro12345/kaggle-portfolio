{
 "cells": [
  {
   "metadata": {},
   "cell_type": "markdown",
   "source": "# 1. Distinguish between numerical and categorical variables",
   "id": "6b40a58e15f306f2"
  },
  {
   "metadata": {
    "ExecuteTime": {
     "end_time": "2024-09-25T08:22:55.979623Z",
     "start_time": "2024-09-25T08:22:55.976733Z"
    }
   },
   "cell_type": "code",
   "source": [
    "import pandas as pd\n",
    "\n",
    "from sklearn.impute import SimpleImputer\n",
    "\n",
    "from sklearn.impute import KNNImputer"
   ],
   "id": "2d62d634a07e3eb4",
   "execution_count": 59,
   "outputs": []
  },
  {
   "cell_type": "code",
   "id": "initial_id",
   "metadata": {
    "collapsed": true,
    "ExecuteTime": {
     "end_time": "2024-09-25T04:38:54.738598Z",
     "start_time": "2024-09-25T04:38:54.728176Z"
    }
   },
   "source": [
    "# Read csv and import to dataframe\n",
    "df = pd.read_csv(\"sample_dataset.csv\")"
   ],
   "execution_count": 2,
   "outputs": []
  },
  {
   "metadata": {
    "ExecuteTime": {
     "end_time": "2024-09-25T04:39:20.069436Z",
     "start_time": "2024-09-25T04:39:20.066004Z"
    }
   },
   "cell_type": "code",
   "source": [
    "print(df.columns)\n",
    "\n",
    "\n",
    "print(df.shape)"
   ],
   "id": "58a628bd0a3450bc",
   "execution_count": 5,
   "outputs": []
  },
  {
   "metadata": {
    "ExecuteTime": {
     "end_time": "2024-09-25T04:39:58.051095Z",
     "start_time": "2024-09-25T04:39:58.045639Z"
    }
   },
   "cell_type": "code",
   "source": "df.dtypes",
   "id": "a6fb71b6f7fb4e16",
   "execution_count": 6,
   "outputs": []
  },
  {
   "metadata": {
    "ExecuteTime": {
     "end_time": "2024-09-25T04:57:21.468900Z",
     "start_time": "2024-09-25T04:57:21.464304Z"
    }
   },
   "cell_type": "code",
   "source": [
    "# Select Categorical variable columns and Numerical Variable Columns\n",
    "categorical_variable = df.select_dtypes(include=['object', 'category', 'bool']).columns\n",
    "numerical_variable = df.select_dtypes(exclude=['object', 'category', 'bool']).columns"
   ],
   "id": "2be996cc2c040139",
   "execution_count": 13,
   "outputs": []
  },
  {
   "metadata": {
    "ExecuteTime": {
     "end_time": "2024-09-25T04:58:12.194751Z",
     "start_time": "2024-09-25T04:58:12.159494Z"
    }
   },
   "cell_type": "code",
   "source": [
    "print(f\"Categorical columns:{categorical_variable}\")\n",
    "\n",
    "print(f\"Numerical columns:{numerical_variable}\")"
   ],
   "id": "54836dedb61dea1a",
   "execution_count": 15,
   "outputs": []
  },
  {
   "metadata": {},
   "cell_type": "markdown",
   "source": "# 2. Cleaning the numerical features",
   "id": "dc5d045638efc377"
  },
  {
   "metadata": {
    "ExecuteTime": {
     "end_time": "2024-09-25T04:59:03.490316Z",
     "start_time": "2024-09-25T04:59:03.486933Z"
    }
   },
   "cell_type": "code",
   "source": "X = df.iloc[:,0:3]",
   "id": "7feacb07fd20bd45",
   "execution_count": 16,
   "outputs": []
  },
  {
   "metadata": {
    "ExecuteTime": {
     "end_time": "2024-09-25T04:59:07.036356Z",
     "start_time": "2024-09-25T04:59:07.027105Z"
    }
   },
   "cell_type": "code",
   "source": "X",
   "id": "9222f8f080261265",
   "execution_count": 17,
   "outputs": []
  },
  {
   "metadata": {},
   "cell_type": "markdown",
   "source": [
    "## 2.1 Replace blanks with the mean value \n",
    "\n",
    "- Using SimpleImputer - a closs of `scikit-learn`.\n",
    "- with parameters: `missing_values` , `strategy`, `fill_value`\n",
    "\n",
    "### What is `fit` and `transform`?\n",
    "\n",
    "In data analysis and machine learning, `fit` and `transform` are two essential methods used in data preprocessing. They are primarily associated with operations like data scaling, imputing missing values, and encoding categorical variables.\n",
    "\n",
    "#### **`fit`: Learning from the Data**\n",
    "- **Definition:** The `fit` method is used to calculate and store information required for the transformation of data. For example, when you `fit` a scaler, it calculates the mean and standard deviation of your data. If you `fit` an imputer, it finds the values (like the mean, median, or mode) to replace the missing data points.\n",
    "- **Purpose:** It analyzes the data to \"learn\" the necessary parameters but does not actually modify or transform the data itself.\n",
    "\n",
    "#### **`transform`: Applying the Learned Rules**\n",
    "- **Definition:** The `transform` method uses the information obtained during `fit` to modify the data accordingly. For example, if you have a scaler that has learned the mean and standard deviation, `transform` will use these values to scale your data.\n",
    "- **Purpose:** It actually changes your data based on the rules or parameters learned during `fit`.\n",
    "\n",
    "#### **`fit_transform`: Combining Both Steps**\n",
    "- **Definition:** The `fit_transform` method combines both `fit` and `transform` in one step. It is convenient when you want to both learn the parameters from the data and apply the transformation in a single line of code.\n",
    "- **Purpose:** It’s typically used when you are working with the training data and want to immediately apply the transformation.\n",
    "\n",
    "### Why Use `fit` and `transform` Separately?\n",
    "\n",
    "1. **Training vs. Testing Data:**\n",
    "   - When you work with machine learning models, you usually split your data into a training set and a test set.\n",
    "   - You `fit` the transformation (like scaling or imputing) on the training set so the model learns from that data.\n",
    "   - You then `transform` the test set using the same learned parameters. This ensures that the transformation applied to the test set is consistent with what was done to the training set, avoiding data leakage.\n",
    "\n",
    "2. **Consistency in Transformation:**\n",
    "   - Once you `fit` the transformation on one dataset, you can use the same learned parameters to `transform` any other dataset. This is useful when you have multiple datasets or want to apply the same transformation to new, unseen data.\n",
    "\n",
    "### Key Takeaways:\n",
    "\n",
    "- **`fit`** learns the necessary parameters from the data (like the mean or standard deviation).\n",
    "- **`transform`** applies these learned parameters to transform the data.\n",
    "- **`fit_transform`** combines both `fit` and `transform` for a given dataset.\n",
    "- Use `fit` and `transform` separately when working with training and test data to maintain consistency and avoid data leakage.\n"
   ],
   "id": "65bb0cd8ad0dfbc2"
  },
  {
   "metadata": {},
   "cell_type": "code",
   "execution_count": null,
   "source": "",
   "id": "cd05cf7a6823014",
   "outputs": []
  },
  {
   "metadata": {
    "ExecuteTime": {
     "end_time": "2024-09-25T05:04:53.746562Z",
     "start_time": "2024-09-25T05:04:53.742785Z"
    }
   },
   "cell_type": "code",
   "source": "cleaner = SimpleImputer(strategy='mean')",
   "id": "71d3fd1bc4844ed4",
   "execution_count": 24,
   "outputs": []
  },
  {
   "metadata": {
    "ExecuteTime": {
     "end_time": "2024-09-25T05:07:19.413952Z",
     "start_time": "2024-09-25T05:07:19.405339Z"
    }
   },
   "cell_type": "code",
   "source": "cleaner.fit(X)",
   "id": "104953b1dbfe2617",
   "execution_count": 27,
   "outputs": []
  },
  {
   "metadata": {
    "ExecuteTime": {
     "end_time": "2024-09-25T05:07:46.976514Z",
     "start_time": "2024-09-25T05:07:46.970431Z"
    }
   },
   "cell_type": "code",
   "source": "cleaner.transform(X)",
   "id": "e6606eb19678d37e",
   "execution_count": 28,
   "outputs": []
  },
  {
   "metadata": {},
   "cell_type": "markdown",
   "source": "## 2.2 Replace blanks with fixed value",
   "id": "c4b68b2e232c3ca9"
  },
  {
   "metadata": {
    "ExecuteTime": {
     "end_time": "2024-09-25T05:21:55.918756Z",
     "start_time": "2024-09-25T05:21:55.914610Z"
    }
   },
   "cell_type": "code",
   "source": "cleaner = SimpleImputer(strategy= 'constant', fill_value = 0)",
   "id": "2dad21ad7f96b483",
   "execution_count": 33,
   "outputs": []
  },
  {
   "metadata": {
    "ExecuteTime": {
     "end_time": "2024-09-25T05:21:56.757757Z",
     "start_time": "2024-09-25T05:21:56.750175Z"
    }
   },
   "cell_type": "code",
   "source": "cleaner.fit_transform(X)",
   "id": "ae8b64bc09fba133",
   "execution_count": 34,
   "outputs": []
  },
  {
   "metadata": {},
   "cell_type": "markdown",
   "source": "## 2.3 Replace blanks with median value",
   "id": "d7bd92ed9fe585a8"
  },
  {
   "metadata": {
    "ExecuteTime": {
     "end_time": "2024-09-25T05:21:20.920528Z",
     "start_time": "2024-09-25T05:21:20.917609Z"
    }
   },
   "cell_type": "code",
   "source": "cleaner = SimpleImputer (strategy= 'median')",
   "id": "9ff438bdba3f1997",
   "execution_count": 30,
   "outputs": []
  },
  {
   "metadata": {
    "ExecuteTime": {
     "end_time": "2024-09-25T05:21:49.647876Z",
     "start_time": "2024-09-25T05:21:49.639694Z"
    }
   },
   "cell_type": "code",
   "source": "X",
   "id": "358ded35fa6c89da",
   "execution_count": 32,
   "outputs": []
  },
  {
   "metadata": {},
   "cell_type": "markdown",
   "source": "# 3. Clearning the categorical features",
   "id": "3c34221a8aee52b7"
  },
  {
   "metadata": {
    "ExecuteTime": {
     "end_time": "2024-09-25T07:40:44.872767Z",
     "start_time": "2024-09-25T07:40:44.868311Z"
    }
   },
   "cell_type": "code",
   "source": "df['area error'].isnull().sum()",
   "id": "d785fc517bbffef7",
   "execution_count": 48,
   "outputs": []
  },
  {
   "metadata": {
    "ExecuteTime": {
     "end_time": "2024-09-25T07:40:45.540453Z",
     "start_time": "2024-09-25T07:40:45.534540Z"
    }
   },
   "cell_type": "code",
   "source": [
    "X = df['area error']\n",
    "X"
   ],
   "id": "12644c8f10d393d",
   "execution_count": 49,
   "outputs": []
  },
  {
   "metadata": {
    "ExecuteTime": {
     "end_time": "2024-09-25T07:40:47.842898Z",
     "start_time": "2024-09-25T07:40:47.838295Z"
    }
   },
   "cell_type": "code",
   "source": "X.value_counts()",
   "id": "397bd88e6bab4f3a",
   "execution_count": 50,
   "outputs": []
  },
  {
   "metadata": {},
   "cell_type": "markdown",
   "source": "## 3.1 Cleaning using the most probable value    ",
   "id": "217deef9c2531a5f"
  },
  {
   "metadata": {
    "ExecuteTime": {
     "end_time": "2024-09-25T07:40:50.204913Z",
     "start_time": "2024-09-25T07:40:50.201878Z"
    }
   },
   "cell_type": "code",
   "source": "cleaner = SimpleImputer(strategy= \"most_frequent\")",
   "id": "c9ab3eb08ac1b8a0",
   "execution_count": 51,
   "outputs": []
  },
  {
   "metadata": {
    "ExecuteTime": {
     "end_time": "2024-09-25T07:41:09.484754Z",
     "start_time": "2024-09-25T07:41:09.482613Z"
    }
   },
   "cell_type": "code",
   "source": [
    "if isinstance(X, pd.Series):\n",
    "    print(\"X is a Series\")\n",
    "elif isinstance(X, pd.DataFrame):\n",
    "    print(\"X is a DataFrame\")"
   ],
   "id": "bc029d8b432ab54b",
   "execution_count": 52,
   "outputs": []
  },
  {
   "metadata": {
    "ExecuteTime": {
     "end_time": "2024-09-25T07:41:19.242703Z",
     "start_time": "2024-09-25T07:41:19.240505Z"
    }
   },
   "cell_type": "code",
   "source": "X = X.to_frame()",
   "id": "1e8815cf1f1a135f",
   "execution_count": 53,
   "outputs": []
  },
  {
   "metadata": {
    "ExecuteTime": {
     "end_time": "2024-09-25T07:41:20.411691Z",
     "start_time": "2024-09-25T07:41:20.402630Z"
    }
   },
   "cell_type": "code",
   "source": "cleaner.fit_transform(X)",
   "id": "16d09e8796ebaf5d",
   "execution_count": 54,
   "outputs": []
  },
  {
   "metadata": {},
   "cell_type": "markdown",
   "source": "## 3.2 Cleaning using a new value",
   "id": "5a174ecf28c7fcfb"
  },
  {
   "metadata": {
    "ExecuteTime": {
     "end_time": "2024-09-25T07:42:52.773375Z",
     "start_time": "2024-09-25T07:42:52.770814Z"
    }
   },
   "cell_type": "code",
   "source": "cleaner = SimpleImputer(strategy= \"constant\", fill_value='Undefined')",
   "id": "fa52319700bac38a",
   "execution_count": 55,
   "outputs": []
  },
  {
   "metadata": {
    "ExecuteTime": {
     "end_time": "2024-09-25T07:43:06.632374Z",
     "start_time": "2024-09-25T07:43:06.623548Z"
    }
   },
   "cell_type": "code",
   "source": "cleaner.fit_transform(X)",
   "id": "deff97790ecd093f",
   "execution_count": 56,
   "outputs": []
  },
  {
   "metadata": {},
   "cell_type": "markdown",
   "source": "# 4. KNN blank filling",
   "id": "ea59e7a946fa652a"
  },
  {
   "metadata": {
    "ExecuteTime": {
     "end_time": "2024-09-25T08:24:27.254930Z",
     "start_time": "2024-09-25T08:24:27.250929Z"
    }
   },
   "cell_type": "code",
   "source": "X = df.iloc[:,0:3]",
   "id": "43c90e74dec9f48a",
   "execution_count": 64,
   "outputs": []
  },
  {
   "metadata": {
    "ExecuteTime": {
     "end_time": "2024-09-25T08:24:27.957599Z",
     "start_time": "2024-09-25T08:24:27.948948Z"
    }
   },
   "cell_type": "code",
   "source": "X",
   "id": "cc6ada169d2bda61",
   "execution_count": 65,
   "outputs": []
  },
  {
   "metadata": {},
   "cell_type": "markdown",
   "source": "## 4.1 KNN imputer ",
   "id": "17fa0c74fd3de915"
  },
  {
   "metadata": {
    "ExecuteTime": {
     "end_time": "2024-09-25T08:24:28.984886Z",
     "start_time": "2024-09-25T08:24:28.981798Z"
    }
   },
   "cell_type": "code",
   "source": "cleaner = KNNImputer(n_neighbors=5)",
   "id": "c5982f354b61d1b5",
   "execution_count": 66,
   "outputs": []
  },
  {
   "metadata": {
    "ExecuteTime": {
     "end_time": "2024-09-25T08:24:29.606341Z",
     "start_time": "2024-09-25T08:24:29.587748Z"
    }
   },
   "cell_type": "code",
   "source": "cleaner.fit_transform(X)",
   "id": "7f62052b65c87a3e",
   "execution_count": 67,
   "outputs": []
  },
  {
   "metadata": {
    "ExecuteTime": {
     "end_time": "2024-09-25T08:25:12.937420Z",
     "start_time": "2024-09-25T08:25:12.928854Z"
    }
   },
   "cell_type": "code",
   "source": [
    "cleaner = KNNImputer(n_neighbors=10)\n",
    "cleaner.fit_transform(X)"
   ],
   "id": "349aecb1d845eb37",
   "execution_count": 69,
   "outputs": []
  },
  {
   "metadata": {
    "ExecuteTime": {
     "end_time": "2024-09-25T08:25:03.166500Z",
     "start_time": "2024-09-25T08:25:03.158580Z"
    }
   },
   "cell_type": "code",
   "source": [
    "cleaner = KNNImputer(n_neighbors=1)\n",
    "cleaner.fit_transform(X)"
   ],
   "id": "8f4c0bcaca5f8295",
   "execution_count": 68,
   "outputs": []
  },
  {
   "metadata": {},
   "cell_type": "markdown",
   "source": "## 4.2 KNN Imputer with weights",
   "id": "4d66ddab3c2108b"
  },
  {
   "metadata": {
    "ExecuteTime": {
     "end_time": "2024-09-25T08:27:00.810248Z",
     "start_time": "2024-09-25T08:27:00.807346Z"
    }
   },
   "cell_type": "code",
   "source": "cleaner = KNNImputer(n_neighbors=10, weights=\"distance\")",
   "id": "5e31f779690fd327",
   "execution_count": 70,
   "outputs": []
  },
  {
   "metadata": {
    "ExecuteTime": {
     "end_time": "2024-09-25T08:27:43.596356Z",
     "start_time": "2024-09-25T08:27:43.582831Z"
    }
   },
   "cell_type": "code",
   "source": "cleaner.fit_transform(X)",
   "id": "7bcb1deb3a3da7fa",
   "execution_count": 72,
   "outputs": []
  },
  {
   "metadata": {},
   "cell_type": "markdown",
   "source": "# 5. ColumnTransformer and make_column_selector",
   "id": "f01ff7987eb60297"
  },
  {
   "metadata": {
    "ExecuteTime": {
     "end_time": "2024-09-25T08:33:30.078621Z",
     "start_time": "2024-09-25T08:33:30.067212Z"
    }
   },
   "cell_type": "code",
   "source": "from sklearn.compose import ColumnTransformer",
   "id": "9a9469f7ccfe6d35",
   "execution_count": 73,
   "outputs": []
  },
  {
   "metadata": {},
   "cell_type": "markdown",
   "source": "## 5.1 Using ColumnTransformer",
   "id": "32315bf61b39c22c"
  },
  {
   "metadata": {
    "ExecuteTime": {
     "end_time": "2024-09-25T08:37:49.702194Z",
     "start_time": "2024-09-25T08:37:49.699284Z"
    }
   },
   "cell_type": "code",
   "source": [
    "cleaner = ColumnTransformer([\n",
    "    ('numerical transformer', SimpleImputer(strategy='mean'),numerical_variable),\n",
    "    ('categorical transformer', SimpleImputer(strategy='most_frequent'),categorical_variable)\n",
    "])\n",
    "\n",
    "cleaner.fit_transform(df)"
   ],
   "id": "4103bd52f5292b45",
   "execution_count": 74,
   "outputs": []
  },
  {
   "metadata": {
    "ExecuteTime": {
     "end_time": "2024-09-25T08:38:14.705885Z",
     "start_time": "2024-09-25T08:38:14.697507Z"
    }
   },
   "cell_type": "code",
   "source": "",
   "id": "995ef5201ea21de3",
   "execution_count": 76,
   "outputs": []
  },
  {
   "metadata": {
    "ExecuteTime": {
     "end_time": "2024-09-25T08:41:48.693451Z",
     "start_time": "2024-09-25T08:41:48.681624Z"
    }
   },
   "cell_type": "code",
   "source": [
    "cleaner = ColumnTransformer([\n",
    "    ('numerical transformer', SimpleImputer(strategy='mean'),[0,1,2]),\n",
    "    ('categorical transformer', SimpleImputer(strategy='most_frequent'),categorical_variable)\n",
    "])\n",
    "\n",
    "cleaner.fit_transform(df)"
   ],
   "id": "24091e19a3efb83c",
   "execution_count": 77,
   "outputs": []
  },
  {
   "metadata": {
    "ExecuteTime": {
     "end_time": "2024-09-25T08:43:44.541200Z",
     "start_time": "2024-09-25T08:43:44.533805Z"
    }
   },
   "cell_type": "code",
   "source": [
    "cleaner = ColumnTransformer([\n",
    "    ('numerical transformer', SimpleImputer(strategy='mean'),[0,1,2]),\n",
    "    ('categorical transformer', SimpleImputer(strategy='most_frequent'),categorical_variable)\n",
    "] , remainder = 'passthrough') # or remainder = 'drop'\n",
    "\n",
    "cleaner.fit_transform(df)"
   ],
   "id": "429cd2615576e87d",
   "execution_count": 79,
   "outputs": []
  },
  {
   "metadata": {},
   "cell_type": "markdown",
   "source": "## 5.2 make_column_selector",
   "id": "b4b856fab6438171"
  },
  {
   "metadata": {
    "ExecuteTime": {
     "end_time": "2024-09-25T09:03:08.379001Z",
     "start_time": "2024-09-25T09:03:08.375887Z"
    }
   },
   "cell_type": "code",
   "source": [
    "from sklearn.compose import ColumnTransformer, make_column_selector\n",
    "from sklearn.impute import SimpleImputer"
   ],
   "id": "4ab0cb4d0a7b2d20",
   "execution_count": 88,
   "outputs": []
  },
  {
   "metadata": {
    "ExecuteTime": {
     "end_time": "2024-09-25T09:02:56.645946Z",
     "start_time": "2024-09-25T09:02:56.632275Z"
    }
   },
   "cell_type": "code",
   "source": [
    "cleaner = ColumnTransformer([\n",
    "    ('numerical transformer', SimpleImputer(strategy='mean'), make_column_selector(dtype_exclude=\"object\")),\n",
    "    ('categorical transformer', SimpleImputer(strategy='most_frequent'), make_column_selector(dtype_exclude=\"object\"))\n",
    "] , remainder = 'drop') # or remainder = 'drop'\n",
    "\n",
    "cleaner.fit_transform(df)"
   ],
   "id": "e643d550501b1f",
   "execution_count": 87,
   "outputs": []
  },
  {
   "metadata": {},
   "cell_type": "markdown",
   "source": "# 6. Exercises",
   "id": "6e081f4611f24370"
  },
  {
   "metadata": {},
   "cell_type": "markdown",
   "source": [
    "### 6.1 Exercise 1\n",
    "- Load `sample_dataset.csv`\n",
    "-  Replace the missing in the categorical variables with \"N\"\n",
    "- Replace the missing in numerical varialbes with mean value"
   ],
   "id": "ec12e243d3c3f5ab"
  },
  {
   "metadata": {
    "ExecuteTime": {
     "end_time": "2024-09-26T04:27:07.166451Z",
     "start_time": "2024-09-26T04:27:07.153424Z"
    }
   },
   "cell_type": "code",
   "source": [
    "import pandas as pd\n",
    "from sklearn.impute import SimpleImputer\n",
    "from sklearn.compose import ColumnTransformer, make_column_selector"
   ],
   "id": "c4cc311a390bd1a8",
   "execution_count": 89,
   "outputs": []
  },
  {
   "metadata": {
    "ExecuteTime": {
     "end_time": "2024-09-26T04:34:30.971070Z",
     "start_time": "2024-09-26T04:34:30.965274Z"
    }
   },
   "cell_type": "code",
   "source": "df = pd.read_csv(\"sample_dataset.csv\")",
   "id": "a211b73deb2fe8b",
   "execution_count": 93,
   "outputs": []
  },
  {
   "metadata": {
    "ExecuteTime": {
     "end_time": "2024-09-26T04:34:31.558075Z",
     "start_time": "2024-09-26T04:34:31.554699Z"
    }
   },
   "cell_type": "code",
   "source": [
    "cleaner = ColumnTransformer([\n",
    "    ('numerical', SimpleImputer(strategy= 'mean'), make_column_selector(dtype_exclude=\"object\")),\n",
    "    ('categorical', SimpleImputer(strategy= 'constant', fill_value= 'N'), make_column_selector(dtype_include=\"object\"))\n",
    "])"
   ],
   "id": "eef2ee16705bcd98",
   "execution_count": 94,
   "outputs": []
  },
  {
   "metadata": {
    "ExecuteTime": {
     "end_time": "2024-09-26T04:34:32.741547Z",
     "start_time": "2024-09-26T04:34:32.730212Z"
    }
   },
   "cell_type": "code",
   "source": "cleaner.fit_transform(df)[0:15]",
   "id": "1559e3cbdde1be8",
   "execution_count": 95,
   "outputs": []
  },
  {
   "metadata": {},
   "cell_type": "markdown",
   "source": [
    "### 6.2 Exercise 2\n",
    "- Load `sample_dataset.csv`\n",
    "- Replace the missing in float variables using KNN with 10 neighbors and a distance-based weights\n",
    "- Replace the missing in categorical variables using the most frequent value"
   ],
   "id": "203b576c94c6034b"
  },
  {
   "metadata": {},
   "cell_type": "code",
   "execution_count": null,
   "source": [
    "import pandas as pd\n",
    "from sklearn.impute import SimpleImputer\n",
    "from sklearn.compose import ColumnTransformer, make_column_selector"
   ],
   "id": "9b5914d78d48f888",
   "outputs": []
  },
  {
   "metadata": {},
   "cell_type": "code",
   "execution_count": null,
   "source": "df = pd.read_csv(\"sample_dataset.csv\")",
   "id": "a933d9ba7c28a43b",
   "outputs": []
  },
  {
   "metadata": {
    "ExecuteTime": {
     "end_time": "2024-09-26T04:40:18.375756Z",
     "start_time": "2024-09-26T04:40:18.372609Z"
    }
   },
   "cell_type": "code",
   "source": [
    "cleaner = ColumnTransformer([\n",
    "    ('float_variables', KNNImputer(n_neighbors=10, weights='distance'), make_column_selector(dtype_include='float')),\n",
    "    ('categorical', SimpleImputer(strategy='most_frequent'), make_column_selector(dtype_exclude='float'))\n",
    "])"
   ],
   "id": "56e5aef81f95f486",
   "execution_count": 96,
   "outputs": []
  },
  {
   "metadata": {
    "ExecuteTime": {
     "end_time": "2024-09-26T04:40:24.423719Z",
     "start_time": "2024-09-26T04:40:24.374247Z"
    }
   },
   "cell_type": "code",
   "source": "cleaner.fit_transform(df)",
   "id": "31fccb0807b0bb7d",
   "execution_count": 97,
   "outputs": []
  },
  {
   "metadata": {
    "ExecuteTime": {
     "end_time": "2024-09-26T04:40:47.900313Z",
     "start_time": "2024-09-26T04:40:47.896385Z"
    }
   },
   "cell_type": "code",
   "source": "df.dtypes",
   "id": "9e0c5ebb2250feec",
   "execution_count": 98,
   "outputs": []
  },
  {
   "metadata": {},
   "cell_type": "markdown",
   "source": "`target` is `int` so the function did not process it.!",
   "id": "6553784fc35fadf7"
  },
  {
   "metadata": {},
   "cell_type": "markdown",
   "source": [
    "# 7. Reflection\n",
    "\n",
    "## 7.1 Understanding the importance of Data Cleaning:\n",
    "- Clean data ensures that models learn meaningful patterns instead of **noise or errors**, leading to more accurate predictions and insights.\n",
    "\n",
    "## 7.2 Handling Missing Values:\n",
    "- Different strategies for imputing missing values, such as mean, median, and most frequent value replacement, were explored. \n",
    "- Each technique has its strengths and is suitable for specific scenarios based on the nature of data. Specifically:\n",
    "- Use SimpleImputer when:\n",
    "    - Quick and straightforward solution.\n",
    "    - The data is simple, well-behaved, have normal distribution (bell-shape) and the missing values are randomly distributed.\n",
    "    - There are few missing values relative to the total number of observations.\n",
    "- Use KNN Imputer when:\n",
    "    - The data has complex feature interactions and correlations.    \n",
    "    - The missing values are `likely related` to other features in the data.\n",
    "    - We have sufficient computational resources and time to perform more sophisticated imputation.\n",
    "    - Preserving the natural distribution and relationships within the data is crucial.\n",
    "        - \n",
    "## 7.3. **ColumnTransformer and Its Application:**\n",
    "   - Learning about `ColumnTransformer` has been particularly enlightening. It allows for the application of different transformations to different subsets of columns within a single pipeline. This tool is invaluable when dealing with datasets that contain both numerical and categorical variables, enabling streamlined and efficient preprocessing.\n",
    "\n",
    "## 7.4 **The Role of `fit` and `transform` Methods:**\n",
    "   - Understanding the distinct roles of the `fit` and `transform` methods helped me grasp how scikit-learn processes data. `fit` is used to learn parameters from the training data, while `transform` applies these learned parameters to transform the data. This separation is crucial when working with training and test sets to avoid data leakage and ensure consistent transformations.\n",
    "\n",
    "## 7.5 **Differentiating `impute` and `compose`:**\n",
    "   - The distinction between the `impute` module, which deals specifically with handling missing data, and the `compose` module, which manages the application of multiple transformations across different data types, clarified the structured approach of scikit-learn to preprocessing."
   ],
   "id": "754ca1a9cd9c9d93"
  },
  {
   "metadata": {},
   "cell_type": "markdown",
   "source": [
    "Before deciding whether to use `SimpleImputer` or `KNN Imputer` for handling missing values in a dataset, it's important to assess the characteristics of the data and the nature of the missing values. Here's a checklist of key factors to consider:\n",
    "\n",
    "### 1. **Distribution of Missing Values:**\n",
    "- **Percentage of Missing Data:** Calculate the percentage of missing values in each column. If the percentage is very high (e.g., > 30%), imputation might not be the best solution; consider removing those columns or using a more sophisticated method.\n",
    "- **Pattern of Missing Data:** Check if the missing data is randomly distributed (Missing Completely at Random - MCAR) or if there are patterns (Missing at Random - MAR or Not Missing at Random - NMAR). Patterns can influence which imputation method is more appropriate.\n",
    "\n",
    "### 2. **Data Size and Computational Resources:**\n",
    "- **Dataset Size:** KNN Imputer can be computationally expensive, especially for large datasets. If the dataset is very large, SimpleImputer may be preferable due to its simplicity and speed.\n",
    "- **Dimensionality:** For high-dimensional data, calculating distances for KNN can be inefficient and slow. Check if the number of features is reasonable for using KNN.\n",
    "\n",
    "### 3. **Feature Relationships:**\n",
    "- **Correlation and Interactions:** Check if there are strong correlations or interactions between features. If features are highly correlated, KNN Imputer can leverage these relationships to provide more accurate imputations.\n",
    "- **Feature Importance:** For critical features where accuracy is paramount, KNN Imputer may be more suitable as it considers relationships between multiple variables.\n",
    "\n",
    "### 4. **Data Distribution:**\n",
    "- **Normality:** For normally distributed data, SimpleImputer using mean or median might be sufficient. However, if the data has a skewed distribution or outliers, KNN can provide a better estimation.\n",
    "- **Outliers:** Check for the presence of outliers. SimpleImputer can be influenced by outliers if using mean, whereas KNN Imputer might provide better estimates by considering neighbors' values.\n",
    "\n",
    "### 5. **Computational Efficiency:**\n",
    "- **Time and Resource Constraints:** If there are constraints on computational resources or time, SimpleImputer is much faster and requires less memory compared to KNN Imputer.\n",
    "- **Modeling Pipeline Complexity:** If you're building a simple pipeline and want quick preprocessing, SimpleImputer can streamline the process without extensive tuning.\n",
    "\n",
    "### 6. **Nature of the Problem:**\n",
    "- **Predictive Model Requirements:** Consider the downstream impact on the model. If the model relies heavily on feature relationships, KNN may be a better choice.\n",
    "- **Data Domain and Context:** In some domains, such as healthcare or finance, preserving data relationships might be crucial for model performance and interpretability, making KNN Imputer more suitable.\n",
    "\n",
    "### 7. **Exploratory Data Analysis (EDA):**\n",
    "- **Visual Analysis:** Use visualizations like heatmaps or scatter plots to understand the distribution of missing values and relationships between features.\n",
    "- **Statistical Tests:** Perform statistical tests to see if the missing data is random or not. This can inform whether a more sophisticated imputation like KNN is necessary.\n",
    "\n",
    "### Decision Summary:\n",
    "\n",
    "- **Use SimpleImputer When:**\n",
    "- The dataset is large and computational efficiency is a concern.\n",
    "- Missing values are randomly distributed and not highly correlated with other features.\n",
    "- You need a quick and simple solution for a baseline model or less critical features.\n",
    "\n",
    "- **Use KNN Imputer When:**\n",
    "- The dataset is of moderate size and computational resources are available.\n",
    "- Features have strong correlations or dependencies, and you want to preserve these relationships.\n",
    "- You have a small-to-moderate percentage of missing values, and maintaining data integrity is crucial for model performance.\n",
    "\n",
    "By considering these factors, you can make an informed decision on whether to use SimpleImputer or KNN Imputer for your dataset."
   ],
   "id": "f2d15a285b10e160"
  },
  {
   "metadata": {},
   "cell_type": "markdown",
   "source": "",
   "id": "49c76fb76345ff61"
  }
 ],
 "metadata": {
  "kernelspec": {
   "display_name": "Python (kaggle)",
   "language": "python",
   "name": "kaggle"
  },
  "language_info": {
   "codemirror_mode": {
    "name": "ipython",
    "version": 2
   },
   "file_extension": ".py",
   "mimetype": "text/x-python",
   "name": "python",
   "nbconvert_exporter": "python",
   "pygments_lexer": "ipython2",
   "version": "2.7.6"
  }
 },
 "nbformat": 4,
 "nbformat_minor": 5
}
