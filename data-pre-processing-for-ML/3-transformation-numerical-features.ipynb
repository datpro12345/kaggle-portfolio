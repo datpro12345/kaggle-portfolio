{
 "cells": [
  {
   "metadata": {},
   "cell_type": "markdown",
   "source": "",
   "id": "3187a4125d84546d"
  },
  {
   "metadata": {},
   "cell_type": "markdown",
   "source": "## 1. Power transform",
   "id": "7df4abdabab426cd"
  },
  {
   "cell_type": "code",
   "id": "initial_id",
   "metadata": {
    "collapsed": true,
    "ExecuteTime": {
     "end_time": "2024-09-26T11:03:56.856309Z",
     "start_time": "2024-09-26T11:03:56.430744Z"
    }
   },
   "source": [
    "import numpy as np\n",
    "from sklearn.preprocessing import PowerTransformer"
   ],
   "outputs": [],
   "execution_count": 1
  },
  {
   "metadata": {
    "ExecuteTime": {
     "end_time": "2024-09-26T11:04:11.887789Z",
     "start_time": "2024-09-26T11:04:11.520890Z"
    }
   },
   "cell_type": "code",
   "source": "import  matplotlib.pyplot as plt",
   "id": "79376d6d780c2e66",
   "outputs": [],
   "execution_count": 2
  },
  {
   "metadata": {
    "ExecuteTime": {
     "end_time": "2024-09-26T11:04:29.276093Z",
     "start_time": "2024-09-26T11:04:28.976214Z"
    }
   },
   "cell_type": "code",
   "source": "import pandas as pd",
   "id": "4779461129f806e4",
   "outputs": [],
   "execution_count": 3
  },
  {
   "metadata": {
    "ExecuteTime": {
     "end_time": "2024-09-26T11:05:58.867247Z",
     "start_time": "2024-09-26T11:05:58.860517Z"
    }
   },
   "cell_type": "code",
   "source": "df = pd.read_csv(\"sample_dataset.csv\").iloc[:,0:5].dropna()",
   "id": "41bf61a519285f52",
   "outputs": [],
   "execution_count": 6
  },
  {
   "metadata": {
    "ExecuteTime": {
     "end_time": "2024-09-26T11:06:00.831918Z",
     "start_time": "2024-09-26T11:06:00.816624Z"
    }
   },
   "cell_type": "code",
   "source": "df",
   "id": "3f3a8da6b22cc3f1",
   "outputs": [
    {
     "data": {
      "text/plain": [
       "     mean radius  mean texture  mean perimeter  mean area  mean smoothness\n",
       "2          19.69         21.25          130.00     1203.0          0.10960\n",
       "3          11.42         20.38           77.58      386.1          0.14250\n",
       "8          13.00         21.82           87.50      519.8          0.12730\n",
       "13         15.85         23.95          103.70      782.7          0.08401\n",
       "14         13.73         22.61           93.60      578.3          0.11310\n",
       "..           ...           ...             ...        ...              ...\n",
       "549        10.82         24.21           68.89      361.6          0.08192\n",
       "550        10.86         21.48           68.51      360.5          0.07431\n",
       "560        14.05         27.15           91.38      600.4          0.09929\n",
       "564        21.56         22.39          142.00     1479.0          0.11100\n",
       "567        20.60         29.33          140.10     1265.0          0.11780\n",
       "\n",
       "[176 rows x 5 columns]"
      ],
      "text/html": [
       "<div>\n",
       "<style scoped>\n",
       "    .dataframe tbody tr th:only-of-type {\n",
       "        vertical-align: middle;\n",
       "    }\n",
       "\n",
       "    .dataframe tbody tr th {\n",
       "        vertical-align: top;\n",
       "    }\n",
       "\n",
       "    .dataframe thead th {\n",
       "        text-align: right;\n",
       "    }\n",
       "</style>\n",
       "<table border=\"1\" class=\"dataframe\">\n",
       "  <thead>\n",
       "    <tr style=\"text-align: right;\">\n",
       "      <th></th>\n",
       "      <th>mean radius</th>\n",
       "      <th>mean texture</th>\n",
       "      <th>mean perimeter</th>\n",
       "      <th>mean area</th>\n",
       "      <th>mean smoothness</th>\n",
       "    </tr>\n",
       "  </thead>\n",
       "  <tbody>\n",
       "    <tr>\n",
       "      <th>2</th>\n",
       "      <td>19.69</td>\n",
       "      <td>21.25</td>\n",
       "      <td>130.00</td>\n",
       "      <td>1203.0</td>\n",
       "      <td>0.10960</td>\n",
       "    </tr>\n",
       "    <tr>\n",
       "      <th>3</th>\n",
       "      <td>11.42</td>\n",
       "      <td>20.38</td>\n",
       "      <td>77.58</td>\n",
       "      <td>386.1</td>\n",
       "      <td>0.14250</td>\n",
       "    </tr>\n",
       "    <tr>\n",
       "      <th>8</th>\n",
       "      <td>13.00</td>\n",
       "      <td>21.82</td>\n",
       "      <td>87.50</td>\n",
       "      <td>519.8</td>\n",
       "      <td>0.12730</td>\n",
       "    </tr>\n",
       "    <tr>\n",
       "      <th>13</th>\n",
       "      <td>15.85</td>\n",
       "      <td>23.95</td>\n",
       "      <td>103.70</td>\n",
       "      <td>782.7</td>\n",
       "      <td>0.08401</td>\n",
       "    </tr>\n",
       "    <tr>\n",
       "      <th>14</th>\n",
       "      <td>13.73</td>\n",
       "      <td>22.61</td>\n",
       "      <td>93.60</td>\n",
       "      <td>578.3</td>\n",
       "      <td>0.11310</td>\n",
       "    </tr>\n",
       "    <tr>\n",
       "      <th>...</th>\n",
       "      <td>...</td>\n",
       "      <td>...</td>\n",
       "      <td>...</td>\n",
       "      <td>...</td>\n",
       "      <td>...</td>\n",
       "    </tr>\n",
       "    <tr>\n",
       "      <th>549</th>\n",
       "      <td>10.82</td>\n",
       "      <td>24.21</td>\n",
       "      <td>68.89</td>\n",
       "      <td>361.6</td>\n",
       "      <td>0.08192</td>\n",
       "    </tr>\n",
       "    <tr>\n",
       "      <th>550</th>\n",
       "      <td>10.86</td>\n",
       "      <td>21.48</td>\n",
       "      <td>68.51</td>\n",
       "      <td>360.5</td>\n",
       "      <td>0.07431</td>\n",
       "    </tr>\n",
       "    <tr>\n",
       "      <th>560</th>\n",
       "      <td>14.05</td>\n",
       "      <td>27.15</td>\n",
       "      <td>91.38</td>\n",
       "      <td>600.4</td>\n",
       "      <td>0.09929</td>\n",
       "    </tr>\n",
       "    <tr>\n",
       "      <th>564</th>\n",
       "      <td>21.56</td>\n",
       "      <td>22.39</td>\n",
       "      <td>142.00</td>\n",
       "      <td>1479.0</td>\n",
       "      <td>0.11100</td>\n",
       "    </tr>\n",
       "    <tr>\n",
       "      <th>567</th>\n",
       "      <td>20.60</td>\n",
       "      <td>29.33</td>\n",
       "      <td>140.10</td>\n",
       "      <td>1265.0</td>\n",
       "      <td>0.11780</td>\n",
       "    </tr>\n",
       "  </tbody>\n",
       "</table>\n",
       "<p>176 rows × 5 columns</p>\n",
       "</div>"
      ]
     },
     "execution_count": 7,
     "metadata": {},
     "output_type": "execute_result"
    }
   ],
   "execution_count": 7
  },
  {
   "metadata": {
    "ExecuteTime": {
     "end_time": "2024-09-26T11:06:44.865880Z",
     "start_time": "2024-09-26T11:06:44.781705Z"
    }
   },
   "cell_type": "code",
   "source": "df['mean radius'].hist()",
   "id": "b07134f3258435ed",
   "outputs": [
    {
     "data": {
      "text/plain": [
       "<Axes: >"
      ]
     },
     "execution_count": 10,
     "metadata": {},
     "output_type": "execute_result"
    },
    {
     "data": {
      "text/plain": [
       "<Figure size 640x480 with 1 Axes>"
      ],
      "image/png": "[encoded data removed]"
     },
     "metadata": {},
     "output_type": "display_data"
    }
   ],
   "execution_count": 10
  },
  {
   "metadata": {},
   "cell_type": "code",
   "outputs": [],
   "execution_count": null,
   "source": "",
   "id": "cfc07b9fb63072b8"
  },
  {
   "metadata": {},
   "cell_type": "markdown",
   "source": "### 1.1 Yeo-Johnson power transform ",
   "id": "6c0989a6292f9a86"
  },
  {
   "metadata": {
    "ExecuteTime": {
     "end_time": "2024-09-26T11:07:58.817090Z",
     "start_time": "2024-09-26T11:07:58.814385Z"
    }
   },
   "cell_type": "code",
   "source": "power = PowerTransformer()",
   "id": "1229e70a629b489a",
   "outputs": [],
   "execution_count": 11
  },
  {
   "metadata": {
    "ExecuteTime": {
     "end_time": "2024-09-26T11:08:15.614357Z",
     "start_time": "2024-09-26T11:08:15.599391Z"
    }
   },
   "cell_type": "code",
   "source": "t = power.fit_transform(df)",
   "id": "8eafa6beb9f6c195",
   "outputs": [],
   "execution_count": 12
  },
  {
   "metadata": {
    "ExecuteTime": {
     "end_time": "2024-09-26T11:08:27.590562Z",
     "start_time": "2024-09-26T11:08:27.518778Z"
    }
   },
   "cell_type": "code",
   "source": "plt.hist(t[:,0])",
   "id": "28bba5c2f0e20863",
   "outputs": [
    {
     "data": {
      "text/plain": [
       "(array([ 4.,  7., 13., 34., 39., 22., 20., 27.,  9.,  1.]),\n",
       " array([-2.54500995, -2.03906966, -1.53312936, -1.02718906, -0.52124877,\n",
       "        -0.01530847,  0.49063182,  0.99657212,  1.50251242,  2.00845271,\n",
       "         2.51439301]),\n",
       " <BarContainer object of 10 artists>)"
      ]
     },
     "execution_count": 13,
     "metadata": {},
     "output_type": "execute_result"
    },
    {
     "data": {
      "text/plain": [
       "<Figure size 640x480 with 1 Axes>"
      ],
      "image/png": "[encoded data removed]"
     },
     "metadata": {},
     "output_type": "display_data"
    }
   ],
   "execution_count": 13
  },
  {
   "metadata": {},
   "cell_type": "markdown",
   "source": "With no standardization",
   "id": "77c7d67f62ad1106"
  },
  {
   "metadata": {
    "ExecuteTime": {
     "end_time": "2024-09-26T11:13:23.892658Z",
     "start_time": "2024-09-26T11:13:23.888929Z"
    }
   },
   "cell_type": "code",
   "source": "power = PowerTransformer('yeo-johnson', standardize=False)",
   "id": "2a0f1cf10a290cf",
   "outputs": [],
   "execution_count": 17
  },
  {
   "metadata": {
    "ExecuteTime": {
     "end_time": "2024-09-26T11:13:24.723522Z",
     "start_time": "2024-09-26T11:13:24.710566Z"
    }
   },
   "cell_type": "code",
   "source": "t = power.fit_transform(df)",
   "id": "7f2834dd52f8ecea",
   "outputs": [],
   "execution_count": 18
  },
  {
   "metadata": {
    "ExecuteTime": {
     "end_time": "2024-09-26T11:13:25.271079Z",
     "start_time": "2024-09-26T11:13:25.204756Z"
    }
   },
   "cell_type": "code",
   "source": "plt.hist(t[:,0])",
   "id": "135a712872c3dc4",
   "outputs": [
    {
     "data": {
      "text/plain": [
       "(array([ 4.,  7., 13., 34., 39., 22., 20., 27.,  9.,  1.]),\n",
       " array([1.15402499, 1.17204759, 1.19007019, 1.20809279, 1.22611538,\n",
       "        1.24413798, 1.26216058, 1.28018318, 1.29820578, 1.31622838,\n",
       "        1.33425098]),\n",
       " <BarContainer object of 10 artists>)"
      ]
     },
     "execution_count": 19,
     "metadata": {},
     "output_type": "execute_result"
    },
    {
     "data": {
      "text/plain": [
       "<Figure size 640x480 with 1 Axes>"
      ],
      "image/png": "[encoded data removed]"
     },
     "metadata": {},
     "output_type": "display_data"
    }
   ],
   "execution_count": 19
  },
  {
   "metadata": {},
   "cell_type": "markdown",
   "source": [
    "### 1.2 Box-cox transformation\n",
    "\n",
    "Only with positive features"
   ],
   "id": "bd4089d901d066b9"
  },
  {
   "metadata": {
    "ExecuteTime": {
     "end_time": "2024-09-26T11:15:00.676908Z",
     "start_time": "2024-09-26T11:15:00.673800Z"
    }
   },
   "cell_type": "code",
   "source": "power = PowerTransformer('box-cox')",
   "id": "7fda3d9a1f4dd450",
   "outputs": [],
   "execution_count": 20
  },
  {
   "metadata": {
    "ExecuteTime": {
     "end_time": "2024-09-26T11:15:35.399524Z",
     "start_time": "2024-09-26T11:15:35.379540Z"
    }
   },
   "cell_type": "code",
   "source": "t = power.fit_transform(df)",
   "id": "7bfbbb1bb8bb8515",
   "outputs": [],
   "execution_count": 21
  },
  {
   "metadata": {
    "ExecuteTime": {
     "end_time": "2024-09-26T11:15:45.695450Z",
     "start_time": "2024-09-26T11:15:45.628485Z"
    }
   },
   "cell_type": "code",
   "source": "plt.hist(t[:,0])",
   "id": "e07297309c5b9e8f",
   "outputs": [
    {
     "data": {
      "text/plain": [
       "(array([ 4.,  7., 12., 34., 40., 22., 20., 28.,  8.,  1.]),\n",
       " array([-2.55704087, -2.04914834, -1.54125581, -1.03336328, -0.52547074,\n",
       "        -0.01757821,  0.49031432,  0.99820685,  1.50609938,  2.01399191,\n",
       "         2.52188444]),\n",
       " <BarContainer object of 10 artists>)"
      ]
     },
     "execution_count": 22,
     "metadata": {},
     "output_type": "execute_result"
    },
    {
     "data": {
      "text/plain": [
       "<Figure size 640x480 with 1 Axes>"
      ],
      "image/png": "[encoded data removed]"
     },
     "metadata": {},
     "output_type": "display_data"
    }
   ],
   "execution_count": 22
  },
  {
   "metadata": {
    "ExecuteTime": {
     "end_time": "2024-09-26T11:16:21.060653Z",
     "start_time": "2024-09-26T11:16:20.979049Z"
    }
   },
   "cell_type": "code",
   "source": "df['mean texture'].hist()",
   "id": "3d6780365c79bd10",
   "outputs": [
    {
     "data": {
      "text/plain": [
       "<Axes: >"
      ]
     },
     "execution_count": 23,
     "metadata": {},
     "output_type": "execute_result"
    },
    {
     "data": {
      "text/plain": [
       "<Figure size 640x480 with 1 Axes>"
      ],
      "image/png": "[encoded data removed]"
     },
     "metadata": {},
     "output_type": "display_data"
    }
   ],
   "execution_count": 23
  },
  {
   "metadata": {
    "ExecuteTime": {
     "end_time": "2024-09-26T11:16:33.352504Z",
     "start_time": "2024-09-26T11:16:33.280479Z"
    }
   },
   "cell_type": "code",
   "source": "plt.hist(t[:,1])",
   "id": "8dfa07a9695bd466",
   "outputs": [
    {
     "data": {
      "text/plain": [
       "(array([ 2., 10., 20., 32., 37., 42., 20., 10.,  2.,  1.]),\n",
       " array([-2.81207169, -2.20309339, -1.59411509, -0.98513679, -0.37615849,\n",
       "         0.23281981,  0.84179811,  1.4507764 ,  2.0597547 ,  2.668733  ,\n",
       "         3.2777113 ]),\n",
       " <BarContainer object of 10 artists>)"
      ]
     },
     "execution_count": 24,
     "metadata": {},
     "output_type": "execute_result"
    },
    {
     "data": {
      "text/plain": [
       "<Figure size 640x480 with 1 Axes>"
      ],
      "image/png": "[encoded data removed]"
     },
     "metadata": {},
     "output_type": "display_data"
    }
   ],
   "execution_count": 24
  },
  {
   "metadata": {},
   "cell_type": "markdown",
   "source": "## 2. Binning",
   "id": "b37669c952ee2615"
  },
  {
   "metadata": {
    "ExecuteTime": {
     "end_time": "2024-09-26T11:22:49.760573Z",
     "start_time": "2024-09-26T11:22:49.756699Z"
    }
   },
   "cell_type": "code",
   "source": "from sklearn.preprocessing import  KBinsDiscretizer",
   "id": "e453fd70449225e0",
   "outputs": [],
   "execution_count": 25
  },
  {
   "metadata": {
    "ExecuteTime": {
     "end_time": "2024-09-26T11:23:26.723253Z",
     "start_time": "2024-09-26T11:23:26.721486Z"
    }
   },
   "cell_type": "code",
   "source": "import pandas as pd",
   "id": "eb0b3292f37d92fd",
   "outputs": [],
   "execution_count": 26
  },
  {
   "metadata": {},
   "cell_type": "markdown",
   "source": "### 2.1 Bins with uniform width  ",
   "id": "f2dcb887b126360c"
  },
  {
   "metadata": {
    "ExecuteTime": {
     "end_time": "2024-09-26T11:25:49.874483Z",
     "start_time": "2024-09-26T11:25:49.871805Z"
    }
   },
   "cell_type": "code",
   "source": "binner = KBinsDiscretizer(strategy= 'uniform', n_bins = 5)",
   "id": "3d964e6fd9055f14",
   "outputs": [],
   "execution_count": 27
  },
  {
   "metadata": {
    "ExecuteTime": {
     "end_time": "2024-09-26T11:26:10.615303Z",
     "start_time": "2024-09-26T11:26:10.607359Z"
    }
   },
   "cell_type": "code",
   "source": "binner.fit_transform(df)",
   "id": "204c552c01d06014",
   "outputs": [
    {
     "data": {
      "text/plain": [
       "<176x25 sparse matrix of type '<class 'numpy.float64'>'\n",
       "\twith 880 stored elements in Compressed Sparse Row format>"
      ]
     },
     "execution_count": 28,
     "metadata": {},
     "output_type": "execute_result"
    }
   ],
   "execution_count": 28
  },
  {
   "metadata": {
    "ExecuteTime": {
     "end_time": "2024-09-26T11:27:24.678333Z",
     "start_time": "2024-09-26T11:27:24.671290Z"
    }
   },
   "cell_type": "code",
   "source": [
    "binner = KBinsDiscretizer(strategy= 'uniform', n_bins = 5, encode = 'onehot-dense')\n",
    "binner.fit_transform(df)"
   ],
   "id": "db103296b47cb7e7",
   "outputs": [
    {
     "data": {
      "text/plain": [
       "array([[0., 0., 1., ..., 1., 0., 0.],\n",
       "       [1., 0., 0., ..., 0., 0., 1.],\n",
       "       [0., 1., 0., ..., 0., 0., 1.],\n",
       "       ...,\n",
       "       [0., 1., 0., ..., 1., 0., 0.],\n",
       "       [0., 0., 0., ..., 1., 0., 0.],\n",
       "       [0., 0., 0., ..., 0., 1., 0.]])"
      ]
     },
     "execution_count": 29,
     "metadata": {},
     "output_type": "execute_result"
    }
   ],
   "execution_count": 29
  },
  {
   "metadata": {
    "ExecuteTime": {
     "end_time": "2024-09-26T11:50:30.660537Z",
     "start_time": "2024-09-26T11:50:30.643131Z"
    }
   },
   "cell_type": "code",
   "source": [
    "binner = KBinsDiscretizer(strategy= 'uniform', n_bins = 5, encode = 'ordinal')\n",
    "binner.fit_transform(df)"
   ],
   "id": "d476ba476aa934a2",
   "outputs": [
    {
     "data": {
      "text/plain": [
       "array([[2., 1., 2., 2., 2.],\n",
       "       [0., 1., 0., 0., 4.],\n",
       "       [1., 2., 1., 0., 4.],\n",
       "       [1., 2., 1., 1., 1.],\n",
       "       [1., 2., 1., 0., 3.],\n",
       "       [2., 2., 2., 2., 2.],\n",
       "       [1., 1., 1., 0., 2.],\n",
       "       [0., 0., 0., 0., 2.],\n",
       "       [2., 1., 2., 1., 3.],\n",
       "       [1., 1., 1., 0., 2.],\n",
       "       [2., 2., 2., 1., 3.],\n",
       "       [2., 2., 2., 2., 1.],\n",
       "       [1., 1., 1., 0., 1.],\n",
       "       [1., 1., 1., 0., 2.],\n",
       "       [2., 2., 2., 1., 1.],\n",
       "       [1., 1., 1., 0., 2.],\n",
       "       [2., 1., 2., 1., 2.],\n",
       "       [0., 1., 0., 0., 1.],\n",
       "       [2., 1., 2., 1., 3.],\n",
       "       [1., 1., 1., 0., 1.],\n",
       "       [0., 0., 0., 0., 2.],\n",
       "       [0., 0., 0., 0., 0.],\n",
       "       [1., 2., 1., 0., 3.],\n",
       "       [0., 1., 0., 0., 2.],\n",
       "       [0., 0., 0., 0., 2.],\n",
       "       [1., 1., 1., 0., 2.],\n",
       "       [1., 0., 1., 0., 4.],\n",
       "       [3., 2., 3., 2., 4.],\n",
       "       [0., 1., 0., 0., 2.],\n",
       "       [1., 0., 1., 0., 4.],\n",
       "       [1., 1., 1., 0., 0.],\n",
       "       [0., 1., 0., 0., 3.],\n",
       "       [2., 1., 2., 1., 2.],\n",
       "       [2., 1., 2., 2., 1.],\n",
       "       [1., 1., 1., 1., 3.],\n",
       "       [2., 2., 2., 2., 2.],\n",
       "       [2., 2., 2., 1., 1.],\n",
       "       [1., 2., 1., 0., 1.],\n",
       "       [0., 0., 0., 0., 3.],\n",
       "       [0., 1., 0., 0., 2.],\n",
       "       [0., 1., 0., 0., 2.],\n",
       "       [1., 1., 1., 0., 3.],\n",
       "       [0., 1., 0., 0., 1.],\n",
       "       [0., 0., 0., 0., 1.],\n",
       "       [2., 1., 2., 2., 1.],\n",
       "       [3., 2., 3., 3., 1.],\n",
       "       [0., 0., 0., 0., 2.],\n",
       "       [2., 2., 2., 1., 2.],\n",
       "       [1., 1., 1., 1., 2.],\n",
       "       [1., 0., 0., 0., 2.],\n",
       "       [2., 1., 2., 1., 2.],\n",
       "       [0., 0., 0., 0., 1.],\n",
       "       [0., 0., 0., 0., 1.],\n",
       "       [0., 1., 0., 0., 2.],\n",
       "       [2., 2., 2., 2., 1.],\n",
       "       [1., 1., 1., 0., 2.],\n",
       "       [1., 1., 1., 1., 1.],\n",
       "       [1., 2., 1., 0., 2.],\n",
       "       [3., 2., 3., 2., 1.],\n",
       "       [4., 1., 4., 4., 3.],\n",
       "       [2., 2., 2., 1., 2.],\n",
       "       [1., 1., 1., 0., 2.],\n",
       "       [2., 3., 2., 2., 1.],\n",
       "       [2., 4., 2., 1., 2.],\n",
       "       [0., 1., 0., 0., 1.],\n",
       "       [2., 1., 2., 2., 2.],\n",
       "       [2., 1., 2., 1., 2.],\n",
       "       [1., 1., 1., 0., 2.],\n",
       "       [2., 2., 2., 1., 1.],\n",
       "       [1., 1., 1., 1., 0.],\n",
       "       [1., 1., 1., 0., 1.],\n",
       "       [1., 1., 1., 0., 0.],\n",
       "       [0., 1., 0., 0., 3.],\n",
       "       [2., 1., 2., 1., 1.],\n",
       "       [2., 2., 2., 2., 2.],\n",
       "       [0., 0., 0., 0., 0.],\n",
       "       [1., 0., 1., 0., 0.],\n",
       "       [0., 1., 0., 0., 1.],\n",
       "       [1., 0., 1., 0., 2.],\n",
       "       [0., 0., 0., 0., 1.],\n",
       "       [2., 1., 2., 2., 3.],\n",
       "       [1., 1., 1., 0., 1.],\n",
       "       [2., 2., 3., 2., 2.],\n",
       "       [0., 2., 0., 0., 0.],\n",
       "       [1., 0., 1., 0., 1.],\n",
       "       [1., 1., 0., 0., 1.],\n",
       "       [0., 0., 0., 0., 0.],\n",
       "       [1., 1., 0., 0., 0.],\n",
       "       [3., 1., 2., 2., 1.],\n",
       "       [3., 1., 3., 2., 3.],\n",
       "       [1., 0., 0., 0., 1.],\n",
       "       [1., 0., 1., 0., 1.],\n",
       "       [1., 1., 1., 0., 2.],\n",
       "       [0., 0., 0., 0., 1.],\n",
       "       [1., 1., 0., 0., 1.],\n",
       "       [1., 0., 1., 0., 1.],\n",
       "       [0., 1., 0., 0., 2.],\n",
       "       [0., 1., 0., 0., 1.],\n",
       "       [0., 1., 0., 0., 1.],\n",
       "       [1., 0., 1., 1., 1.],\n",
       "       [1., 1., 1., 1., 3.],\n",
       "       [1., 1., 1., 0., 1.],\n",
       "       [2., 1., 1., 1., 2.],\n",
       "       [3., 2., 2., 2., 2.],\n",
       "       [1., 1., 0., 0., 1.],\n",
       "       [1., 1., 1., 0., 1.],\n",
       "       [1., 1., 1., 1., 2.],\n",
       "       [1., 3., 1., 0., 0.],\n",
       "       [0., 0., 0., 0., 3.],\n",
       "       [0., 0., 0., 0., 0.],\n",
       "       [0., 2., 0., 0., 0.],\n",
       "       [2., 2., 2., 2., 2.],\n",
       "       [0., 0., 0., 0., 2.],\n",
       "       [0., 1., 0., 0., 2.],\n",
       "       [1., 1., 1., 1., 3.],\n",
       "       [3., 2., 3., 2., 3.],\n",
       "       [1., 1., 1., 0., 2.],\n",
       "       [0., 0., 0., 0., 0.],\n",
       "       [1., 0., 0., 0., 1.],\n",
       "       [0., 1., 0., 0., 2.],\n",
       "       [1., 1., 1., 0., 0.],\n",
       "       [2., 1., 2., 1., 2.],\n",
       "       [0., 1., 0., 0., 2.],\n",
       "       [1., 1., 1., 1., 3.],\n",
       "       [0., 1., 0., 0., 2.],\n",
       "       [0., 1., 0., 0., 1.],\n",
       "       [0., 1., 0., 0., 2.],\n",
       "       [0., 2., 0., 0., 1.],\n",
       "       [1., 2., 1., 1., 2.],\n",
       "       [3., 1., 2., 2., 3.],\n",
       "       [0., 1., 0., 0., 1.],\n",
       "       [0., 2., 0., 0., 2.],\n",
       "       [2., 3., 2., 1., 2.],\n",
       "       [1., 1., 1., 1., 1.],\n",
       "       [2., 2., 2., 2., 2.],\n",
       "       [1., 3., 1., 0., 1.],\n",
       "       [2., 2., 2., 1., 2.],\n",
       "       [0., 1., 0., 0., 1.],\n",
       "       [1., 1., 1., 0., 0.],\n",
       "       [1., 1., 1., 0., 1.],\n",
       "       [2., 2., 2., 1., 1.],\n",
       "       [0., 3., 0., 0., 1.],\n",
       "       [0., 0., 0., 0., 2.],\n",
       "       [2., 1., 2., 1., 2.],\n",
       "       [1., 0., 1., 1., 2.],\n",
       "       [1., 1., 1., 0., 1.],\n",
       "       [2., 1., 1., 1., 0.],\n",
       "       [1., 2., 0., 0., 1.],\n",
       "       [1., 0., 0., 0., 0.],\n",
       "       [1., 1., 1., 0., 0.],\n",
       "       [1., 1., 1., 0., 1.],\n",
       "       [3., 1., 3., 2., 2.],\n",
       "       [1., 2., 1., 0., 3.],\n",
       "       [3., 1., 3., 3., 1.],\n",
       "       [1., 2., 1., 1., 3.],\n",
       "       [0., 0., 0., 0., 1.],\n",
       "       [1., 0., 1., 1., 1.],\n",
       "       [1., 1., 1., 0., 2.],\n",
       "       [2., 1., 2., 1., 2.],\n",
       "       [0., 1., 0., 0., 1.],\n",
       "       [1., 1., 1., 0., 2.],\n",
       "       [1., 0., 1., 0., 3.],\n",
       "       [0., 1., 0., 0., 2.],\n",
       "       [0., 1., 0., 0., 2.],\n",
       "       [3., 1., 3., 2., 2.],\n",
       "       [0., 2., 0., 0., 3.],\n",
       "       [0., 0., 0., 0., 2.],\n",
       "       [1., 2., 1., 1., 1.],\n",
       "       [1., 3., 1., 0., 1.],\n",
       "       [0., 1., 0., 0., 1.],\n",
       "       [0., 1., 0., 0., 1.],\n",
       "       [0., 2., 0., 0., 1.],\n",
       "       [0., 1., 0., 0., 0.],\n",
       "       [1., 2., 1., 0., 2.],\n",
       "       [3., 2., 3., 2., 2.],\n",
       "       [3., 3., 3., 2., 3.]])"
      ]
     },
     "execution_count": 30,
     "metadata": {},
     "output_type": "execute_result"
    }
   ],
   "execution_count": 30
  },
  {
   "metadata": {},
   "cell_type": "markdown",
   "source": "## 2.2 Binning using quantiles",
   "id": "9c011b15f843e969"
  },
  {
   "metadata": {
    "ExecuteTime": {
     "end_time": "2024-09-26T11:55:15.448973Z",
     "start_time": "2024-09-26T11:55:15.447177Z"
    }
   },
   "cell_type": "code",
   "source": "import numpy as np",
   "id": "f5cfa9e15d55fc7f",
   "outputs": [],
   "execution_count": 35
  },
  {
   "metadata": {
    "ExecuteTime": {
     "end_time": "2024-09-26T11:52:10.434657Z",
     "start_time": "2024-09-26T11:52:10.431959Z"
    }
   },
   "cell_type": "code",
   "source": "binner = KBinsDiscretizer(strategy= 'quantile', n_bins = 5, encode = 'ordinal')",
   "id": "8067c7af6b586419",
   "outputs": [],
   "execution_count": 31
  },
  {
   "metadata": {
    "ExecuteTime": {
     "end_time": "2024-09-26T11:52:28.659747Z",
     "start_time": "2024-09-26T11:52:28.651162Z"
    }
   },
   "cell_type": "code",
   "source": "binner.fit_transform(df)",
   "id": "83148bd177aa4c31",
   "outputs": [
    {
     "data": {
      "text/plain": [
       "array([[4., 3., 4., 4., 4.],\n",
       "       [0., 3., 1., 0., 4.],\n",
       "       [2., 3., 2., 2., 4.],\n",
       "       [3., 4., 3., 3., 0.],\n",
       "       [2., 4., 3., 2., 4.],\n",
       "       [4., 3., 4., 4., 2.],\n",
       "       [2., 1., 2., 2., 3.],\n",
       "       [0., 0., 0., 0., 3.],\n",
       "       [3., 1., 3., 3., 4.],\n",
       "       [3., 3., 3., 3., 3.],\n",
       "       [3., 4., 3., 3., 4.],\n",
       "       [4., 4., 4., 4., 2.],\n",
       "       [2., 2., 2., 2., 1.],\n",
       "       [2., 3., 2., 2., 3.],\n",
       "       [4., 4., 4., 4., 1.],\n",
       "       [2., 3., 2., 2., 3.],\n",
       "       [4., 1., 4., 4., 4.],\n",
       "       [1., 2., 1., 1., 0.],\n",
       "       [4., 2., 4., 4., 4.],\n",
       "       [2., 2., 2., 2., 0.],\n",
       "       [0., 0., 0., 0., 2.],\n",
       "       [0., 0., 0., 0., 0.],\n",
       "       [1., 4., 2., 1., 4.],\n",
       "       [0., 1., 0., 0., 3.],\n",
       "       [0., 0., 0., 0., 2.],\n",
       "       [2., 1., 2., 2., 3.],\n",
       "       [2., 0., 2., 2., 4.],\n",
       "       [4., 4., 4., 4., 4.],\n",
       "       [0., 2., 0., 0., 2.],\n",
       "       [2., 0., 2., 2., 4.],\n",
       "       [3., 2., 3., 3., 0.],\n",
       "       [0., 3., 0., 0., 4.],\n",
       "       [4., 1., 4., 4., 3.],\n",
       "       [4., 2., 4., 4., 0.],\n",
       "       [3., 1., 3., 3., 4.],\n",
       "       [4., 4., 4., 4., 3.],\n",
       "       [4., 3., 4., 4., 2.],\n",
       "       [2., 3., 1., 2., 1.],\n",
       "       [0., 0., 0., 0., 4.],\n",
       "       [0., 1., 0., 0., 4.],\n",
       "       [1., 1., 1., 1., 4.],\n",
       "       [2., 3., 2., 2., 4.],\n",
       "       [0., 3., 0., 0., 2.],\n",
       "       [1., 0., 1., 1., 2.],\n",
       "       [4., 1., 4., 4., 1.],\n",
       "       [4., 3., 4., 4., 0.],\n",
       "       [0., 0., 0., 0., 2.],\n",
       "       [3., 4., 3., 3., 3.],\n",
       "       [3., 1., 3., 3., 2.],\n",
       "       [1., 0., 1., 1., 3.],\n",
       "       [3., 2., 3., 3., 2.],\n",
       "       [0., 0., 0., 0., 1.],\n",
       "       [0., 0., 0., 0., 1.],\n",
       "       [1., 1., 1., 1., 3.],\n",
       "       [4., 3., 4., 4., 1.],\n",
       "       [3., 3., 3., 3., 2.],\n",
       "       [3., 1., 3., 3., 1.],\n",
       "       [2., 4., 2., 2., 2.],\n",
       "       [4., 3., 4., 4., 1.],\n",
       "       [4., 2., 4., 4., 4.],\n",
       "       [3., 4., 3., 3., 3.],\n",
       "       [2., 1., 2., 2., 3.],\n",
       "       [4., 4., 4., 4., 0.],\n",
       "       [3., 4., 3., 3., 2.],\n",
       "       [1., 2., 0., 1., 2.],\n",
       "       [4., 2., 4., 4., 3.],\n",
       "       [3., 1., 3., 3., 3.],\n",
       "       [2., 1., 2., 2., 4.],\n",
       "       [3., 4., 3., 3., 1.],\n",
       "       [3., 2., 3., 3., 0.],\n",
       "       [2., 1., 2., 2., 2.],\n",
       "       [3., 1., 2., 3., 0.],\n",
       "       [1., 1., 1., 1., 4.],\n",
       "       [4., 2., 4., 4., 1.],\n",
       "       [4., 4., 4., 4., 3.],\n",
       "       [1., 0., 1., 1., 0.],\n",
       "       [2., 0., 1., 2., 0.],\n",
       "       [0., 2., 0., 0., 0.],\n",
       "       [1., 0., 1., 1., 2.],\n",
       "       [0., 0., 0., 0., 1.],\n",
       "       [4., 2., 4., 4., 4.],\n",
       "       [1., 2., 1., 1., 1.],\n",
       "       [4., 4., 4., 4., 3.],\n",
       "       [1., 4., 1., 1., 0.],\n",
       "       [2., 0., 2., 2., 1.],\n",
       "       [1., 1., 1., 1., 1.],\n",
       "       [1., 0., 1., 1., 0.],\n",
       "       [1., 1., 1., 1., 0.],\n",
       "       [4., 2., 4., 4., 0.],\n",
       "       [4., 3., 4., 4., 4.],\n",
       "       [1., 0., 1., 1., 1.],\n",
       "       [3., 0., 2., 3., 2.],\n",
       "       [2., 2., 2., 2., 2.],\n",
       "       [0., 0., 0., 0., 0.],\n",
       "       [1., 2., 1., 1., 0.],\n",
       "       [2., 0., 2., 2., 2.],\n",
       "       [0., 1., 0., 0., 3.],\n",
       "       [0., 1., 0., 0., 1.],\n",
       "       [1., 2., 1., 1., 0.],\n",
       "       [3., 0., 3., 3., 1.],\n",
       "       [3., 2., 3., 3., 4.],\n",
       "       [2., 1., 2., 2., 1.],\n",
       "       [3., 2., 3., 3., 2.],\n",
       "       [4., 4., 4., 4., 2.],\n",
       "       [1., 2., 1., 1., 1.],\n",
       "       [2., 1., 2., 2., 0.],\n",
       "       [3., 1., 3., 3., 2.],\n",
       "       [2., 4., 2., 2., 0.],\n",
       "       [0., 0., 0., 0., 4.],\n",
       "       [0., 0., 0., 0., 0.],\n",
       "       [1., 4., 1., 1., 0.],\n",
       "       [4., 4., 4., 4., 3.],\n",
       "       [0., 0., 0., 0., 2.],\n",
       "       [0., 1., 0., 0., 3.],\n",
       "       [3., 2., 3., 3., 4.],\n",
       "       [4., 3., 4., 4., 4.],\n",
       "       [2., 2., 2., 2., 3.],\n",
       "       [0., 0., 0., 0., 0.],\n",
       "       [1., 0., 1., 1., 1.],\n",
       "       [0., 2., 0., 0., 2.],\n",
       "       [2., 3., 2., 2., 0.],\n",
       "       [4., 3., 3., 4., 3.],\n",
       "       [1., 3., 1., 1., 2.],\n",
       "       [3., 3., 3., 3., 4.],\n",
       "       [0., 3., 0., 0., 3.],\n",
       "       [1., 2., 1., 1., 1.],\n",
       "       [1., 1., 1., 1., 3.],\n",
       "       [0., 3., 0., 0., 1.],\n",
       "       [3., 3., 3., 3., 2.],\n",
       "       [4., 2., 4., 4., 4.],\n",
       "       [0., 1., 0., 0., 1.],\n",
       "       [1., 4., 1., 1., 3.],\n",
       "       [3., 4., 3., 3., 2.],\n",
       "       [3., 2., 3., 3., 1.],\n",
       "       [4., 4., 4., 4., 3.],\n",
       "       [2., 4., 2., 2., 1.],\n",
       "       [3., 4., 3., 3., 2.],\n",
       "       [1., 2., 0., 1., 1.],\n",
       "       [2., 2., 2., 2., 0.],\n",
       "       [2., 3., 2., 2., 1.],\n",
       "       [3., 4., 4., 3., 1.],\n",
       "       [1., 4., 1., 1., 1.],\n",
       "       [0., 0., 1., 1., 3.],\n",
       "       [3., 2., 3., 3., 3.],\n",
       "       [3., 0., 3., 3., 3.],\n",
       "       [1., 1., 2., 1., 2.],\n",
       "       [3., 3., 3., 3., 0.],\n",
       "       [1., 3., 1., 1., 0.],\n",
       "       [1., 0., 1., 1., 0.],\n",
       "       [2., 3., 2., 2., 0.],\n",
       "       [1., 1., 1., 1., 1.],\n",
       "       [4., 3., 4., 4., 3.],\n",
       "       [2., 4., 3., 2., 4.],\n",
       "       [4., 2., 4., 4., 2.],\n",
       "       [3., 4., 3., 3., 4.],\n",
       "       [1., 0., 1., 1., 0.],\n",
       "       [3., 0., 3., 3., 1.],\n",
       "       [2., 3., 2., 2., 4.],\n",
       "       [4., 3., 4., 4., 3.],\n",
       "       [0., 1., 0., 0., 2.],\n",
       "       [2., 2., 2., 2., 3.],\n",
       "       [2., 0., 2., 2., 4.],\n",
       "       [1., 1., 1., 1., 3.],\n",
       "       [0., 1., 0., 0., 2.],\n",
       "       [4., 3., 4., 4., 3.],\n",
       "       [1., 4., 1., 1., 4.],\n",
       "       [1., 0., 1., 0., 2.],\n",
       "       [3., 4., 3., 3., 0.],\n",
       "       [2., 4., 2., 2., 1.],\n",
       "       [0., 1., 0., 0., 1.],\n",
       "       [0., 2., 0., 0., 1.],\n",
       "       [0., 4., 0., 0., 0.],\n",
       "       [0., 3., 0., 0., 0.],\n",
       "       [2., 4., 2., 2., 2.],\n",
       "       [4., 3., 4., 4., 4.],\n",
       "       [4., 4., 4., 4., 4.]])"
      ]
     },
     "execution_count": 32,
     "metadata": {},
     "output_type": "execute_result"
    }
   ],
   "execution_count": 32
  },
  {
   "metadata": {
    "ExecuteTime": {
     "end_time": "2024-09-26T11:52:53.583704Z",
     "start_time": "2024-09-26T11:52:53.577885Z"
    }
   },
   "cell_type": "code",
   "source": "binner.fit_transform(df)[:,0]",
   "id": "3b49d13dbd2d4797",
   "outputs": [
    {
     "data": {
      "text/plain": [
       "array([4., 0., 2., 3., 2., 4., 2., 0., 3., 3., 3., 4., 2., 2., 4., 2., 4.,\n",
       "       1., 4., 2., 0., 0., 1., 0., 0., 2., 2., 4., 0., 2., 3., 0., 4., 4.,\n",
       "       3., 4., 4., 2., 0., 0., 1., 2., 0., 1., 4., 4., 0., 3., 3., 1., 3.,\n",
       "       0., 0., 1., 4., 3., 3., 2., 4., 4., 3., 2., 4., 3., 1., 4., 3., 2.,\n",
       "       3., 3., 2., 3., 1., 4., 4., 1., 2., 0., 1., 0., 4., 1., 4., 1., 2.,\n",
       "       1., 1., 1., 4., 4., 1., 3., 2., 0., 1., 2., 0., 0., 1., 3., 3., 2.,\n",
       "       3., 4., 1., 2., 3., 2., 0., 0., 1., 4., 0., 0., 3., 4., 2., 0., 1.,\n",
       "       0., 2., 4., 1., 3., 0., 1., 1., 0., 3., 4., 0., 1., 3., 3., 4., 2.,\n",
       "       3., 1., 2., 2., 3., 1., 0., 3., 3., 1., 3., 1., 1., 2., 1., 4., 2.,\n",
       "       4., 3., 1., 3., 2., 4., 0., 2., 2., 1., 0., 4., 1., 1., 3., 2., 0.,\n",
       "       0., 0., 0., 2., 4., 4.])"
      ]
     },
     "execution_count": 33,
     "metadata": {},
     "output_type": "execute_result"
    }
   ],
   "execution_count": 33
  },
  {
   "metadata": {
    "ExecuteTime": {
     "end_time": "2024-09-26T11:55:17.701642Z",
     "start_time": "2024-09-26T11:55:17.693239Z"
    }
   },
   "cell_type": "code",
   "source": "np.unique(binner.fit_transform(df)[:,0], return_counts=True)",
   "id": "3fded200b7173e02",
   "outputs": [
    {
     "data": {
      "text/plain": [
       "(array([0., 1., 2., 3., 4.]), array([35, 35, 35, 35, 36]))"
      ]
     },
     "execution_count": 36,
     "metadata": {},
     "output_type": "execute_result"
    }
   ],
   "execution_count": 36
  },
  {
   "metadata": {},
   "cell_type": "markdown",
   "source": "### 2. 3. Binning using K-Means",
   "id": "c0b012a255a56015"
  },
  {
   "metadata": {
    "ExecuteTime": {
     "end_time": "2024-09-26T12:00:14.912495Z",
     "start_time": "2024-09-26T12:00:14.895960Z"
    }
   },
   "cell_type": "code",
   "source": [
    "binner = KBinsDiscretizer(strategy = 'kmeans', n_bins = 20, encode='ordinal')\n",
    "\n",
    "binner.fit_transform(df)"
   ],
   "id": "c6aadcacbfef0fe7",
   "outputs": [
    {
     "data": {
      "text/plain": [
       "array([[14.,  9., 14., 14., 12.],\n",
       "       [ 4.,  9.,  5.,  4., 19.],\n",
       "       [ 6., 10.,  7.,  7., 17.],\n",
       "       [ 9., 11.,  9., 11.,  5.],\n",
       "       [ 7., 10.,  8.,  8., 13.],\n",
       "       [14., 10., 14., 15.,  9.],\n",
       "       [ 6.,  5.,  6.,  7., 12.],\n",
       "       [ 2.,  2.,  1.,  2., 10.],\n",
       "       [11.,  5., 11., 12., 14.],\n",
       "       [ 8.,  9.,  8.,  9., 11.],\n",
       "       [10., 11., 10., 12., 15.],\n",
       "       [13., 14., 14., 14.,  7.],\n",
       "       [ 6.,  7.,  6.,  7.,  6.],\n",
       "       [ 7.,  9.,  7.,  8., 10.],\n",
       "       [13., 13., 14., 13.,  6.],\n",
       "       [ 6.,  8.,  7.,  7., 11.],\n",
       "       [12.,  6., 13., 13., 12.],\n",
       "       [ 4.,  7.,  4.,  5.,  4.],\n",
       "       [12.,  7., 12., 13., 13.],\n",
       "       [ 6.,  8.,  6.,  7.,  4.],\n",
       "       [ 1.,  1.,  0.,  0.,  9.],\n",
       "       [ 1.,  3.,  1.,  1.,  3.],\n",
       "       [ 6., 11.,  6.,  7., 13.],\n",
       "       [ 1.,  6.,  1.,  1., 11.],\n",
       "       [ 1.,  4.,  1.,  1.,  9.],\n",
       "       [ 7.,  5.,  7.,  8., 10.],\n",
       "       [ 7.,  1.,  7.,  8., 17.],\n",
       "       [15., 11., 17., 15., 17.],\n",
       "       [ 2.,  8.,  2.,  2., 10.],\n",
       "       [ 6.,  5.,  7.,  7., 18.],\n",
       "       [ 8.,  8.,  8.,  9.,  3.],\n",
       "       [ 3.,  8.,  3.,  3., 13.],\n",
       "       [12.,  6., 12., 13., 11.],\n",
       "       [13.,  7., 13., 14.,  4.],\n",
       "       [ 8.,  5.,  8.,  9., 13.],\n",
       "       [14., 13., 14., 14., 10.],\n",
       "       [12., 10., 12., 13.,  7.],\n",
       "       [ 6., 10.,  6.,  7.,  6.],\n",
       "       [ 3.,  3.,  4.,  4., 14.],\n",
       "       [ 4.,  6.,  4.,  5., 12.],\n",
       "       [ 4.,  5.,  5.,  5., 12.],\n",
       "       [ 6.,  9.,  6.,  7., 13.],\n",
       "       [ 0.,  9.,  0.,  0.,  7.],\n",
       "       [ 5.,  2.,  5.,  6.,  7.],\n",
       "       [13.,  5., 13., 14.,  5.],\n",
       "       [18., 10., 18., 18.,  5.],\n",
       "       [ 3.,  0.,  3.,  4.,  8.],\n",
       "       [11., 12., 11., 12., 11.],\n",
       "       [ 8.,  6.,  8.,  9.,  9.],\n",
       "       [ 5.,  2.,  5.,  6., 10.],\n",
       "       [10.,  8., 10., 11.,  9.],\n",
       "       [ 4.,  4.,  4.,  5.,  6.],\n",
       "       [ 2.,  4.,  2.,  3.,  7.],\n",
       "       [ 4.,  6.,  4.,  5., 10.],\n",
       "       [13., 10., 14., 14.,  5.],\n",
       "       [ 8.,  8.,  8.,  9.,  9.],\n",
       "       [ 8.,  6.,  8., 10.,  6.],\n",
       "       [ 6., 10.,  7.,  7., 10.],\n",
       "       [15., 10., 15., 15.,  6.],\n",
       "       [19.,  7., 19., 19., 13.],\n",
       "       [11., 13., 11., 12., 10.],\n",
       "       [ 7.,  6.,  7.,  8., 10.],\n",
       "       [14., 18., 14., 14.,  5.],\n",
       "       [11., 19., 10., 12.,  9.],\n",
       "       [ 4.,  7.,  4.,  5.,  7.],\n",
       "       [14.,  8., 14., 14., 11.],\n",
       "       [11.,  6., 10., 12., 10.],\n",
       "       [ 7.,  6.,  7.,  8., 12.],\n",
       "       [11., 11., 10., 12.,  5.],\n",
       "       [ 9.,  8.,  8., 10.,  3.],\n",
       "       [ 6.,  5.,  6.,  7.,  7.],\n",
       "       [ 8.,  6.,  7.,  9.,  0.],\n",
       "       [ 4.,  6.,  5.,  5., 15.],\n",
       "       [12.,  8., 12., 13.,  6.],\n",
       "       [13., 14., 13., 14., 10.],\n",
       "       [ 4.,  3.,  4.,  5.,  3.],\n",
       "       [ 6.,  3.,  6.,  7.,  1.],\n",
       "       [ 3.,  8.,  4.,  4.,  4.],\n",
       "       [ 6.,  3.,  6.,  7.,  8.],\n",
       "       [ 3.,  2.,  3.,  4.,  5.],\n",
       "       [14.,  7., 14., 14., 13.],\n",
       "       [ 5.,  8.,  6.,  6.,  5.],\n",
       "       [15., 11., 15., 15., 12.],\n",
       "       [ 4., 12.,  4.,  5.,  2.],\n",
       "       [ 6.,  3.,  6.,  7.,  6.],\n",
       "       [ 5.,  6.,  5.,  6.,  5.],\n",
       "       [ 5.,  3.,  5.,  6.,  3.],\n",
       "       [ 5.,  6.,  5.,  6.,  2.],\n",
       "       [15.,  8., 14., 15.,  4.],\n",
       "       [15.,  9., 15., 15., 14.],\n",
       "       [ 5.,  4.,  5.,  6.,  5.],\n",
       "       [ 7.,  2.,  7.,  8.,  7.],\n",
       "       [ 6.,  8.,  6.,  7.,  8.],\n",
       "       [ 3.,  4.,  3.,  4.,  4.],\n",
       "       [ 5.,  7.,  5.,  6.,  4.],\n",
       "       [ 6.,  4.,  6.,  7.,  7.],\n",
       "       [ 2.,  6.,  2.,  3., 10.],\n",
       "       [ 2.,  6.,  1.,  2.,  5.],\n",
       "       [ 5.,  7.,  5.,  6.,  5.],\n",
       "       [ 8.,  4.,  8.,  9.,  6.],\n",
       "       [ 9.,  8.,  9., 10., 16.],\n",
       "       [ 7.,  5.,  7.,  8.,  6.],\n",
       "       [10.,  7.,  9., 11.,  8.],\n",
       "       [15., 14., 15., 15.,  9.],\n",
       "       [ 5.,  7.,  5.,  6.,  7.],\n",
       "       [ 7.,  5.,  7.,  8.,  4.],\n",
       "       [ 9.,  5.,  9., 11.,  9.],\n",
       "       [ 7., 15.,  6.,  8.,  2.],\n",
       "       [ 3.,  2.,  4.,  4., 16.],\n",
       "       [ 3.,  4.,  3.,  4.,  3.],\n",
       "       [ 5., 10.,  5.,  6.,  1.],\n",
       "       [14., 11., 14., 14., 10.],\n",
       "       [ 2.,  2.,  2.,  3.,  9.],\n",
       "       [ 1.,  6.,  0.,  0., 11.],\n",
       "       [ 9.,  8.,  9., 10., 14.],\n",
       "       [16., 10., 17., 16., 14.],\n",
       "       [ 7.,  7.,  7.,  8., 11.],\n",
       "       [ 3.,  4.,  3.,  4.,  3.],\n",
       "       [ 5.,  4.,  5.,  6.,  5.],\n",
       "       [ 3.,  7.,  3.,  4., 10.],\n",
       "       [ 6.,  9.,  6.,  7.,  2.],\n",
       "       [11.,  9., 11., 12., 11.],\n",
       "       [ 4.,  9.,  5.,  5.,  9.],\n",
       "       [ 9.,  9.,  9., 11., 13.],\n",
       "       [ 3.,  9.,  3.,  4., 10.],\n",
       "       [ 4.,  7.,  4.,  5.,  5.],\n",
       "       [ 4.,  5.,  4.,  5., 12.],\n",
       "       [ 3., 10.,  3.,  4.,  6.],\n",
       "       [ 8., 10.,  9.,  9.,  9.],\n",
       "       [15.,  8., 15., 15., 13.],\n",
       "       [ 3.,  6.,  3.,  4.,  6.],\n",
       "       [ 5., 13.,  5.,  6., 10.],\n",
       "       [11., 15., 11., 12.,  9.],\n",
       "       [ 8.,  6.,  8.,  9.,  7.],\n",
       "       [14., 13., 14., 14., 10.],\n",
       "       [ 7., 17.,  7.,  8.,  7.],\n",
       "       [10., 14., 10., 12.,  9.],\n",
       "       [ 4.,  7.,  4.,  5.,  5.],\n",
       "       [ 6.,  7.,  6.,  7.,  2.],\n",
       "       [ 6.,  9.,  6.,  7.,  5.],\n",
       "       [11., 11., 12., 12.,  7.],\n",
       "       [ 5., 15.,  5.,  6.,  6.],\n",
       "       [ 4.,  4.,  4.,  5., 11.],\n",
       "       [10.,  8., 10., 11., 10.],\n",
       "       [ 9.,  1.,  9., 10., 11.],\n",
       "       [ 5.,  5.,  6.,  6.,  8.],\n",
       "       [10.,  8.,  9., 11.,  2.],\n",
       "       [ 5., 10.,  5.,  6.,  4.],\n",
       "       [ 5.,  2.,  5.,  6.,  2.],\n",
       "       [ 6.,  9.,  6.,  7.,  2.],\n",
       "       [ 5.,  6.,  6.,  6.,  6.],\n",
       "       [15.,  9., 16., 15., 12.],\n",
       "       [ 7., 12.,  7.,  8., 14.],\n",
       "       [17.,  8., 18., 18.,  7.],\n",
       "       [ 9., 11.,  9., 10., 14.],\n",
       "       [ 4.,  4.,  5.,  5.,  4.],\n",
       "       [ 8.,  4.,  8.,  9.,  5.],\n",
       "       [ 7.,  9.,  7.,  8., 12.],\n",
       "       [12.,  9., 12., 13., 11.],\n",
       "       [ 2.,  5.,  2.,  2.,  8.],\n",
       "       [ 7.,  7.,  7.,  8., 12.],\n",
       "       [ 7.,  3.,  7.,  8., 16.],\n",
       "       [ 4.,  6.,  5.,  5., 12.],\n",
       "       [ 3.,  6.,  3.,  4.,  8.],\n",
       "       [15.,  9., 16., 15., 11.],\n",
       "       [ 4., 12.,  5.,  5., 16.],\n",
       "       [ 4.,  4.,  4.,  5.,  9.],\n",
       "       [ 8., 13.,  8.,  9.,  4.],\n",
       "       [ 6., 15.,  6.,  7.,  5.],\n",
       "       [ 2.,  5.,  2.,  3.,  6.],\n",
       "       [ 2.,  8.,  1.,  2.,  5.],\n",
       "       [ 3., 12.,  3.,  4.,  4.],\n",
       "       [ 3.,  9.,  3.,  4.,  2.],\n",
       "       [ 7., 14.,  7.,  8.,  9.],\n",
       "       [16., 10., 17., 17., 12.],\n",
       "       [15., 16., 16., 15., 14.]])"
      ]
     },
     "execution_count": 39,
     "metadata": {},
     "output_type": "execute_result"
    }
   ],
   "execution_count": 39
  },
  {
   "metadata": {},
   "cell_type": "markdown",
   "source": "## 3. Binarizing",
   "id": "f2682ed97e0384cf"
  },
  {
   "metadata": {
    "ExecuteTime": {
     "end_time": "2024-09-26T12:07:19.540896Z",
     "start_time": "2024-09-26T12:07:19.538357Z"
    }
   },
   "cell_type": "code",
   "source": "from sklearn.preprocessing import Binarizer",
   "id": "b413fd40c6cc75",
   "outputs": [],
   "execution_count": 40
  },
  {
   "metadata": {
    "ExecuteTime": {
     "end_time": "2024-09-26T12:07:33.360795Z",
     "start_time": "2024-09-26T12:07:33.352082Z"
    }
   },
   "cell_type": "code",
   "source": "df",
   "id": "aa8ab57d66951325",
   "outputs": [
    {
     "data": {
      "text/plain": [
       "     mean radius  mean texture  mean perimeter  mean area  mean smoothness\n",
       "2          19.69         21.25          130.00     1203.0          0.10960\n",
       "3          11.42         20.38           77.58      386.1          0.14250\n",
       "8          13.00         21.82           87.50      519.8          0.12730\n",
       "13         15.85         23.95          103.70      782.7          0.08401\n",
       "14         13.73         22.61           93.60      578.3          0.11310\n",
       "..           ...           ...             ...        ...              ...\n",
       "549        10.82         24.21           68.89      361.6          0.08192\n",
       "550        10.86         21.48           68.51      360.5          0.07431\n",
       "560        14.05         27.15           91.38      600.4          0.09929\n",
       "564        21.56         22.39          142.00     1479.0          0.11100\n",
       "567        20.60         29.33          140.10     1265.0          0.11780\n",
       "\n",
       "[176 rows x 5 columns]"
      ],
      "text/html": [
       "<div>\n",
       "<style scoped>\n",
       "    .dataframe tbody tr th:only-of-type {\n",
       "        vertical-align: middle;\n",
       "    }\n",
       "\n",
       "    .dataframe tbody tr th {\n",
       "        vertical-align: top;\n",
       "    }\n",
       "\n",
       "    .dataframe thead th {\n",
       "        text-align: right;\n",
       "    }\n",
       "</style>\n",
       "<table border=\"1\" class=\"dataframe\">\n",
       "  <thead>\n",
       "    <tr style=\"text-align: right;\">\n",
       "      <th></th>\n",
       "      <th>mean radius</th>\n",
       "      <th>mean texture</th>\n",
       "      <th>mean perimeter</th>\n",
       "      <th>mean area</th>\n",
       "      <th>mean smoothness</th>\n",
       "    </tr>\n",
       "  </thead>\n",
       "  <tbody>\n",
       "    <tr>\n",
       "      <th>2</th>\n",
       "      <td>19.69</td>\n",
       "      <td>21.25</td>\n",
       "      <td>130.00</td>\n",
       "      <td>1203.0</td>\n",
       "      <td>0.10960</td>\n",
       "    </tr>\n",
       "    <tr>\n",
       "      <th>3</th>\n",
       "      <td>11.42</td>\n",
       "      <td>20.38</td>\n",
       "      <td>77.58</td>\n",
       "      <td>386.1</td>\n",
       "      <td>0.14250</td>\n",
       "    </tr>\n",
       "    <tr>\n",
       "      <th>8</th>\n",
       "      <td>13.00</td>\n",
       "      <td>21.82</td>\n",
       "      <td>87.50</td>\n",
       "      <td>519.8</td>\n",
       "      <td>0.12730</td>\n",
       "    </tr>\n",
       "    <tr>\n",
       "      <th>13</th>\n",
       "      <td>15.85</td>\n",
       "      <td>23.95</td>\n",
       "      <td>103.70</td>\n",
       "      <td>782.7</td>\n",
       "      <td>0.08401</td>\n",
       "    </tr>\n",
       "    <tr>\n",
       "      <th>14</th>\n",
       "      <td>13.73</td>\n",
       "      <td>22.61</td>\n",
       "      <td>93.60</td>\n",
       "      <td>578.3</td>\n",
       "      <td>0.11310</td>\n",
       "    </tr>\n",
       "    <tr>\n",
       "      <th>...</th>\n",
       "      <td>...</td>\n",
       "      <td>...</td>\n",
       "      <td>...</td>\n",
       "      <td>...</td>\n",
       "      <td>...</td>\n",
       "    </tr>\n",
       "    <tr>\n",
       "      <th>549</th>\n",
       "      <td>10.82</td>\n",
       "      <td>24.21</td>\n",
       "      <td>68.89</td>\n",
       "      <td>361.6</td>\n",
       "      <td>0.08192</td>\n",
       "    </tr>\n",
       "    <tr>\n",
       "      <th>550</th>\n",
       "      <td>10.86</td>\n",
       "      <td>21.48</td>\n",
       "      <td>68.51</td>\n",
       "      <td>360.5</td>\n",
       "      <td>0.07431</td>\n",
       "    </tr>\n",
       "    <tr>\n",
       "      <th>560</th>\n",
       "      <td>14.05</td>\n",
       "      <td>27.15</td>\n",
       "      <td>91.38</td>\n",
       "      <td>600.4</td>\n",
       "      <td>0.09929</td>\n",
       "    </tr>\n",
       "    <tr>\n",
       "      <th>564</th>\n",
       "      <td>21.56</td>\n",
       "      <td>22.39</td>\n",
       "      <td>142.00</td>\n",
       "      <td>1479.0</td>\n",
       "      <td>0.11100</td>\n",
       "    </tr>\n",
       "    <tr>\n",
       "      <th>567</th>\n",
       "      <td>20.60</td>\n",
       "      <td>29.33</td>\n",
       "      <td>140.10</td>\n",
       "      <td>1265.0</td>\n",
       "      <td>0.11780</td>\n",
       "    </tr>\n",
       "  </tbody>\n",
       "</table>\n",
       "<p>176 rows × 5 columns</p>\n",
       "</div>"
      ]
     },
     "execution_count": 41,
     "metadata": {},
     "output_type": "execute_result"
    }
   ],
   "execution_count": 41
  },
  {
   "metadata": {
    "ExecuteTime": {
     "end_time": "2024-09-26T12:08:06.085449Z",
     "start_time": "2024-09-26T12:08:06.081476Z"
    }
   },
   "cell_type": "code",
   "source": "converter = Binarizer(threshold = 12)",
   "id": "8faa6b93e281d59",
   "outputs": [],
   "execution_count": 42
  },
  {
   "metadata": {
    "ExecuteTime": {
     "end_time": "2024-09-26T12:08:13.871056Z",
     "start_time": "2024-09-26T12:08:13.862578Z"
    }
   },
   "cell_type": "code",
   "source": "converter.fit_transform(df)",
   "id": "8627d08aeeb6f47d",
   "outputs": [
    {
     "data": {
      "text/plain": [
       "array([[1., 1., 1., 1., 0.],\n",
       "       [0., 1., 1., 1., 0.],\n",
       "       [1., 1., 1., 1., 0.],\n",
       "       [1., 1., 1., 1., 0.],\n",
       "       [1., 1., 1., 1., 0.],\n",
       "       [1., 1., 1., 1., 0.],\n",
       "       [1., 1., 1., 1., 0.],\n",
       "       [0., 1., 1., 1., 0.],\n",
       "       [1., 1., 1., 1., 0.],\n",
       "       [1., 1., 1., 1., 0.],\n",
       "       [1., 1., 1., 1., 0.],\n",
       "       [1., 1., 1., 1., 0.],\n",
       "       [1., 1., 1., 1., 0.],\n",
       "       [1., 1., 1., 1., 0.],\n",
       "       [1., 1., 1., 1., 0.],\n",
       "       [1., 1., 1., 1., 0.],\n",
       "       [1., 1., 1., 1., 0.],\n",
       "       [0., 1., 1., 1., 0.],\n",
       "       [1., 1., 1., 1., 0.],\n",
       "       [1., 1., 1., 1., 0.],\n",
       "       [0., 0., 1., 1., 0.],\n",
       "       [0., 1., 1., 1., 0.],\n",
       "       [1., 1., 1., 1., 0.],\n",
       "       [0., 1., 1., 1., 0.],\n",
       "       [0., 1., 1., 1., 0.],\n",
       "       [1., 1., 1., 1., 0.],\n",
       "       [1., 0., 1., 1., 0.],\n",
       "       [1., 1., 1., 1., 0.],\n",
       "       [0., 1., 1., 1., 0.],\n",
       "       [1., 1., 1., 1., 0.],\n",
       "       [1., 1., 1., 1., 0.],\n",
       "       [0., 1., 1., 1., 0.],\n",
       "       [1., 1., 1., 1., 0.],\n",
       "       [1., 1., 1., 1., 0.],\n",
       "       [1., 1., 1., 1., 0.],\n",
       "       [1., 1., 1., 1., 0.],\n",
       "       [1., 1., 1., 1., 0.],\n",
       "       [1., 1., 1., 1., 0.],\n",
       "       [0., 1., 1., 1., 0.],\n",
       "       [0., 1., 1., 1., 0.],\n",
       "       [0., 1., 1., 1., 0.],\n",
       "       [1., 1., 1., 1., 0.],\n",
       "       [0., 1., 1., 1., 0.],\n",
       "       [1., 1., 1., 1., 0.],\n",
       "       [1., 1., 1., 1., 0.],\n",
       "       [1., 1., 1., 1., 0.],\n",
       "       [0., 0., 1., 1., 0.],\n",
       "       [1., 1., 1., 1., 0.],\n",
       "       [1., 1., 1., 1., 0.],\n",
       "       [1., 1., 1., 1., 0.],\n",
       "       [1., 1., 1., 1., 0.],\n",
       "       [0., 1., 1., 1., 0.],\n",
       "       [0., 1., 1., 1., 0.],\n",
       "       [0., 1., 1., 1., 0.],\n",
       "       [1., 1., 1., 1., 0.],\n",
       "       [1., 1., 1., 1., 0.],\n",
       "       [1., 1., 1., 1., 0.],\n",
       "       [1., 1., 1., 1., 0.],\n",
       "       [1., 1., 1., 1., 0.],\n",
       "       [1., 1., 1., 1., 0.],\n",
       "       [1., 1., 1., 1., 0.],\n",
       "       [1., 1., 1., 1., 0.],\n",
       "       [1., 1., 1., 1., 0.],\n",
       "       [1., 1., 1., 1., 0.],\n",
       "       [0., 1., 1., 1., 0.],\n",
       "       [1., 1., 1., 1., 0.],\n",
       "       [1., 1., 1., 1., 0.],\n",
       "       [1., 1., 1., 1., 0.],\n",
       "       [1., 1., 1., 1., 0.],\n",
       "       [1., 1., 1., 1., 0.],\n",
       "       [1., 1., 1., 1., 0.],\n",
       "       [1., 1., 1., 1., 0.],\n",
       "       [0., 1., 1., 1., 0.],\n",
       "       [1., 1., 1., 1., 0.],\n",
       "       [1., 1., 1., 1., 0.],\n",
       "       [0., 1., 1., 1., 0.],\n",
       "       [1., 1., 1., 1., 0.],\n",
       "       [0., 1., 1., 1., 0.],\n",
       "       [1., 1., 1., 1., 0.],\n",
       "       [0., 1., 1., 1., 0.],\n",
       "       [1., 1., 1., 1., 0.],\n",
       "       [1., 1., 1., 1., 0.],\n",
       "       [1., 1., 1., 1., 0.],\n",
       "       [0., 1., 1., 1., 0.],\n",
       "       [1., 1., 1., 1., 0.],\n",
       "       [1., 1., 1., 1., 0.],\n",
       "       [1., 1., 1., 1., 0.],\n",
       "       [1., 1., 1., 1., 0.],\n",
       "       [1., 1., 1., 1., 0.],\n",
       "       [1., 1., 1., 1., 0.],\n",
       "       [1., 1., 1., 1., 0.],\n",
       "       [1., 1., 1., 1., 0.],\n",
       "       [1., 1., 1., 1., 0.],\n",
       "       [0., 1., 1., 1., 0.],\n",
       "       [1., 1., 1., 1., 0.],\n",
       "       [1., 1., 1., 1., 0.],\n",
       "       [0., 1., 1., 1., 0.],\n",
       "       [0., 1., 1., 1., 0.],\n",
       "       [1., 1., 1., 1., 0.],\n",
       "       [1., 1., 1., 1., 0.],\n",
       "       [1., 1., 1., 1., 0.],\n",
       "       [1., 1., 1., 1., 0.],\n",
       "       [1., 1., 1., 1., 0.],\n",
       "       [1., 1., 1., 1., 0.],\n",
       "       [1., 1., 1., 1., 0.],\n",
       "       [1., 1., 1., 1., 0.],\n",
       "       [1., 1., 1., 1., 0.],\n",
       "       [1., 1., 1., 1., 0.],\n",
       "       [0., 1., 1., 1., 0.],\n",
       "       [0., 1., 1., 1., 0.],\n",
       "       [1., 1., 1., 1., 0.],\n",
       "       [1., 1., 1., 1., 0.],\n",
       "       [0., 1., 1., 1., 0.],\n",
       "       [0., 1., 1., 1., 0.],\n",
       "       [1., 1., 1., 1., 0.],\n",
       "       [1., 1., 1., 1., 0.],\n",
       "       [1., 1., 1., 1., 0.],\n",
       "       [0., 1., 1., 1., 0.],\n",
       "       [1., 1., 1., 1., 0.],\n",
       "       [0., 1., 1., 1., 0.],\n",
       "       [1., 1., 1., 1., 0.],\n",
       "       [1., 1., 1., 1., 0.],\n",
       "       [0., 1., 1., 1., 0.],\n",
       "       [1., 1., 1., 1., 0.],\n",
       "       [0., 1., 1., 1., 0.],\n",
       "       [0., 1., 1., 1., 0.],\n",
       "       [0., 1., 1., 1., 0.],\n",
       "       [0., 1., 1., 1., 0.],\n",
       "       [1., 1., 1., 1., 0.],\n",
       "       [1., 1., 1., 1., 0.],\n",
       "       [0., 1., 1., 1., 0.],\n",
       "       [0., 1., 1., 1., 0.],\n",
       "       [1., 1., 1., 1., 0.],\n",
       "       [1., 1., 1., 1., 0.],\n",
       "       [1., 1., 1., 1., 0.],\n",
       "       [1., 1., 1., 1., 0.],\n",
       "       [1., 1., 1., 1., 0.],\n",
       "       [0., 1., 1., 1., 0.],\n",
       "       [1., 1., 1., 1., 0.],\n",
       "       [1., 1., 1., 1., 0.],\n",
       "       [1., 1., 1., 1., 0.],\n",
       "       [1., 1., 1., 1., 0.],\n",
       "       [0., 1., 1., 1., 0.],\n",
       "       [1., 1., 1., 1., 0.],\n",
       "       [1., 0., 1., 1., 0.],\n",
       "       [1., 1., 1., 1., 0.],\n",
       "       [1., 1., 1., 1., 0.],\n",
       "       [1., 1., 1., 1., 0.],\n",
       "       [1., 1., 1., 1., 0.],\n",
       "       [1., 1., 1., 1., 0.],\n",
       "       [1., 1., 1., 1., 0.],\n",
       "       [1., 1., 1., 1., 0.],\n",
       "       [1., 1., 1., 1., 0.],\n",
       "       [1., 1., 1., 1., 0.],\n",
       "       [1., 1., 1., 1., 0.],\n",
       "       [0., 1., 1., 1., 0.],\n",
       "       [1., 1., 1., 1., 0.],\n",
       "       [1., 1., 1., 1., 0.],\n",
       "       [1., 1., 1., 1., 0.],\n",
       "       [0., 1., 1., 1., 0.],\n",
       "       [1., 1., 1., 1., 0.],\n",
       "       [1., 1., 1., 1., 0.],\n",
       "       [0., 1., 1., 1., 0.],\n",
       "       [0., 1., 1., 1., 0.],\n",
       "       [1., 1., 1., 1., 0.],\n",
       "       [0., 1., 1., 1., 0.],\n",
       "       [0., 1., 1., 1., 0.],\n",
       "       [1., 1., 1., 1., 0.],\n",
       "       [1., 1., 1., 1., 0.],\n",
       "       [0., 1., 1., 1., 0.],\n",
       "       [0., 1., 1., 1., 0.],\n",
       "       [0., 1., 1., 1., 0.],\n",
       "       [0., 1., 1., 1., 0.],\n",
       "       [1., 1., 1., 1., 0.],\n",
       "       [1., 1., 1., 1., 0.],\n",
       "       [1., 1., 1., 1., 0.]])"
      ]
     },
     "execution_count": 43,
     "metadata": {},
     "output_type": "execute_result"
    }
   ],
   "execution_count": 43
  },
  {
   "metadata": {},
   "cell_type": "markdown",
   "source": "# 4. Applying an arbitrary transformation  ",
   "id": "637d3cb7ca2dbe7b"
  },
  {
   "metadata": {
    "ExecuteTime": {
     "end_time": "2024-09-27T02:27:39.761574Z",
     "start_time": "2024-09-27T02:27:38.886663Z"
    }
   },
   "cell_type": "code",
   "source": [
    "from sklearn.preprocessing import FunctionTransformer \n",
    "import pandas as pd\n",
    "import numpy as np  "
   ],
   "id": "b62cb643f13a7b02",
   "outputs": [],
   "execution_count": 2
  },
  {
   "metadata": {
    "ExecuteTime": {
     "end_time": "2024-09-27T02:29:39.343770Z",
     "start_time": "2024-09-27T02:29:39.336886Z"
    }
   },
   "cell_type": "code",
   "source": "df = pd.read_csv(\"sample_dataset.csv\").iloc[:,0:3].dropna()",
   "id": "81ee5b0a6a2847f1",
   "outputs": [],
   "execution_count": 7
  },
  {
   "metadata": {
    "ExecuteTime": {
     "end_time": "2024-09-27T02:29:40.188278Z",
     "start_time": "2024-09-27T02:29:40.182683Z"
    }
   },
   "cell_type": "code",
   "source": "df",
   "id": "b8c89f8eb3f09131",
   "outputs": [
    {
     "data": {
      "text/plain": [
       "     mean radius  mean texture  mean perimeter\n",
       "1          20.57         17.77          132.90\n",
       "2          19.69         21.25          130.00\n",
       "3          11.42         20.38           77.58\n",
       "5          12.45         15.70           82.57\n",
       "7          13.71         20.83           90.20\n",
       "..           ...           ...             ...\n",
       "562        15.22         30.62          103.40\n",
       "563        20.92         25.09          143.00\n",
       "564        21.56         22.39          142.00\n",
       "566        16.60         28.08          108.30\n",
       "567        20.60         29.33          140.10\n",
       "\n",
       "[385 rows x 3 columns]"
      ],
      "text/html": [
       "<div>\n",
       "<style scoped>\n",
       "    .dataframe tbody tr th:only-of-type {\n",
       "        vertical-align: middle;\n",
       "    }\n",
       "\n",
       "    .dataframe tbody tr th {\n",
       "        vertical-align: top;\n",
       "    }\n",
       "\n",
       "    .dataframe thead th {\n",
       "        text-align: right;\n",
       "    }\n",
       "</style>\n",
       "<table border=\"1\" class=\"dataframe\">\n",
       "  <thead>\n",
       "    <tr style=\"text-align: right;\">\n",
       "      <th></th>\n",
       "      <th>mean radius</th>\n",
       "      <th>mean texture</th>\n",
       "      <th>mean perimeter</th>\n",
       "    </tr>\n",
       "  </thead>\n",
       "  <tbody>\n",
       "    <tr>\n",
       "      <th>1</th>\n",
       "      <td>20.57</td>\n",
       "      <td>17.77</td>\n",
       "      <td>132.90</td>\n",
       "    </tr>\n",
       "    <tr>\n",
       "      <th>2</th>\n",
       "      <td>19.69</td>\n",
       "      <td>21.25</td>\n",
       "      <td>130.00</td>\n",
       "    </tr>\n",
       "    <tr>\n",
       "      <th>3</th>\n",
       "      <td>11.42</td>\n",
       "      <td>20.38</td>\n",
       "      <td>77.58</td>\n",
       "    </tr>\n",
       "    <tr>\n",
       "      <th>5</th>\n",
       "      <td>12.45</td>\n",
       "      <td>15.70</td>\n",
       "      <td>82.57</td>\n",
       "    </tr>\n",
       "    <tr>\n",
       "      <th>7</th>\n",
       "      <td>13.71</td>\n",
       "      <td>20.83</td>\n",
       "      <td>90.20</td>\n",
       "    </tr>\n",
       "    <tr>\n",
       "      <th>...</th>\n",
       "      <td>...</td>\n",
       "      <td>...</td>\n",
       "      <td>...</td>\n",
       "    </tr>\n",
       "    <tr>\n",
       "      <th>562</th>\n",
       "      <td>15.22</td>\n",
       "      <td>30.62</td>\n",
       "      <td>103.40</td>\n",
       "    </tr>\n",
       "    <tr>\n",
       "      <th>563</th>\n",
       "      <td>20.92</td>\n",
       "      <td>25.09</td>\n",
       "      <td>143.00</td>\n",
       "    </tr>\n",
       "    <tr>\n",
       "      <th>564</th>\n",
       "      <td>21.56</td>\n",
       "      <td>22.39</td>\n",
       "      <td>142.00</td>\n",
       "    </tr>\n",
       "    <tr>\n",
       "      <th>566</th>\n",
       "      <td>16.60</td>\n",
       "      <td>28.08</td>\n",
       "      <td>108.30</td>\n",
       "    </tr>\n",
       "    <tr>\n",
       "      <th>567</th>\n",
       "      <td>20.60</td>\n",
       "      <td>29.33</td>\n",
       "      <td>140.10</td>\n",
       "    </tr>\n",
       "  </tbody>\n",
       "</table>\n",
       "<p>385 rows × 3 columns</p>\n",
       "</div>"
      ]
     },
     "execution_count": 8,
     "metadata": {},
     "output_type": "execute_result"
    }
   ],
   "execution_count": 8
  },
  {
   "metadata": {
    "ExecuteTime": {
     "end_time": "2024-09-27T02:29:45.540242Z",
     "start_time": "2024-09-27T02:29:45.537418Z"
    }
   },
   "cell_type": "code",
   "source": "transformer = FunctionTransformer(np.log)",
   "id": "94f052d8c4949ce7",
   "outputs": [],
   "execution_count": 9
  },
  {
   "metadata": {
    "ExecuteTime": {
     "end_time": "2024-09-27T02:29:46.274634Z",
     "start_time": "2024-09-27T02:29:46.264732Z"
    }
   },
   "cell_type": "code",
   "source": "transformer.fit_transform(df)",
   "id": "6da4d5ede9dfd072",
   "outputs": [
    {
     "data": {
      "text/plain": [
       "     mean radius  mean texture  mean perimeter\n",
       "1       3.023834      2.877512        4.889597\n",
       "2       2.980111      3.056357        4.867534\n",
       "3       2.435366      3.014554        4.351310\n",
       "5       2.521721      2.753661        4.413646\n",
       "7       2.618125      3.036394        4.502029\n",
       "..           ...           ...             ...\n",
       "562     2.722610      3.421653        4.638605\n",
       "563     3.040706      3.222469        4.962845\n",
       "564     3.070840      3.108614        4.955827\n",
       "566     2.809403      3.335058        4.684905\n",
       "567     3.025291      3.378611        4.942356\n",
       "\n",
       "[385 rows x 3 columns]"
      ],
      "text/html": [
       "<div>\n",
       "<style scoped>\n",
       "    .dataframe tbody tr th:only-of-type {\n",
       "        vertical-align: middle;\n",
       "    }\n",
       "\n",
       "    .dataframe tbody tr th {\n",
       "        vertical-align: top;\n",
       "    }\n",
       "\n",
       "    .dataframe thead th {\n",
       "        text-align: right;\n",
       "    }\n",
       "</style>\n",
       "<table border=\"1\" class=\"dataframe\">\n",
       "  <thead>\n",
       "    <tr style=\"text-align: right;\">\n",
       "      <th></th>\n",
       "      <th>mean radius</th>\n",
       "      <th>mean texture</th>\n",
       "      <th>mean perimeter</th>\n",
       "    </tr>\n",
       "  </thead>\n",
       "  <tbody>\n",
       "    <tr>\n",
       "      <th>1</th>\n",
       "      <td>3.023834</td>\n",
       "      <td>2.877512</td>\n",
       "      <td>4.889597</td>\n",
       "    </tr>\n",
       "    <tr>\n",
       "      <th>2</th>\n",
       "      <td>2.980111</td>\n",
       "      <td>3.056357</td>\n",
       "      <td>4.867534</td>\n",
       "    </tr>\n",
       "    <tr>\n",
       "      <th>3</th>\n",
       "      <td>2.435366</td>\n",
       "      <td>3.014554</td>\n",
       "      <td>4.351310</td>\n",
       "    </tr>\n",
       "    <tr>\n",
       "      <th>5</th>\n",
       "      <td>2.521721</td>\n",
       "      <td>2.753661</td>\n",
       "      <td>4.413646</td>\n",
       "    </tr>\n",
       "    <tr>\n",
       "      <th>7</th>\n",
       "      <td>2.618125</td>\n",
       "      <td>3.036394</td>\n",
       "      <td>4.502029</td>\n",
       "    </tr>\n",
       "    <tr>\n",
       "      <th>...</th>\n",
       "      <td>...</td>\n",
       "      <td>...</td>\n",
       "      <td>...</td>\n",
       "    </tr>\n",
       "    <tr>\n",
       "      <th>562</th>\n",
       "      <td>2.722610</td>\n",
       "      <td>3.421653</td>\n",
       "      <td>4.638605</td>\n",
       "    </tr>\n",
       "    <tr>\n",
       "      <th>563</th>\n",
       "      <td>3.040706</td>\n",
       "      <td>3.222469</td>\n",
       "      <td>4.962845</td>\n",
       "    </tr>\n",
       "    <tr>\n",
       "      <th>564</th>\n",
       "      <td>3.070840</td>\n",
       "      <td>3.108614</td>\n",
       "      <td>4.955827</td>\n",
       "    </tr>\n",
       "    <tr>\n",
       "      <th>566</th>\n",
       "      <td>2.809403</td>\n",
       "      <td>3.335058</td>\n",
       "      <td>4.684905</td>\n",
       "    </tr>\n",
       "    <tr>\n",
       "      <th>567</th>\n",
       "      <td>3.025291</td>\n",
       "      <td>3.378611</td>\n",
       "      <td>4.942356</td>\n",
       "    </tr>\n",
       "  </tbody>\n",
       "</table>\n",
       "<p>385 rows × 3 columns</p>\n",
       "</div>"
      ]
     },
     "execution_count": 10,
     "metadata": {},
     "output_type": "execute_result"
    }
   ],
   "execution_count": 10
  },
  {
   "metadata": {
    "ExecuteTime": {
     "end_time": "2024-09-27T02:33:08.352833Z",
     "start_time": "2024-09-27T02:33:08.349803Z"
    }
   },
   "cell_type": "code",
   "source": "transformer = FunctionTransformer(lambda x : x*3, validate = True)",
   "id": "3abe0fa8e82c462f",
   "outputs": [],
   "execution_count": 11
  },
  {
   "metadata": {
    "ExecuteTime": {
     "end_time": "2024-09-27T02:33:15.633798Z",
     "start_time": "2024-09-27T02:33:15.627971Z"
    }
   },
   "cell_type": "code",
   "source": "transformer.fit_transform(df)",
   "id": "ff553b16eb8ad763",
   "outputs": [
    {
     "data": {
      "text/plain": [
       "array([[ 61.71,  53.31, 398.7 ],\n",
       "       [ 59.07,  63.75, 390.  ],\n",
       "       [ 34.26,  61.14, 232.74],\n",
       "       ...,\n",
       "       [ 64.68,  67.17, 426.  ],\n",
       "       [ 49.8 ,  84.24, 324.9 ],\n",
       "       [ 61.8 ,  87.99, 420.3 ]])"
      ]
     },
     "execution_count": 12,
     "metadata": {},
     "output_type": "execute_result"
    }
   ],
   "execution_count": 12
  },
  {
   "metadata": {},
   "cell_type": "code",
   "outputs": [],
   "execution_count": null,
   "source": "transformer = FunctionTransformer(lambda x : x*3, validate = True)",
   "id": "30668bd8b9b7337e"
  },
  {
   "metadata": {
    "ExecuteTime": {
     "end_time": "2024-09-27T02:34:07.224595Z",
     "start_time": "2024-09-27T02:34:07.216124Z"
    }
   },
   "cell_type": "code",
   "source": "transformer.fit_transform(df)",
   "id": "111afe51414f7000",
   "outputs": [
    {
     "data": {
      "text/plain": [
       "array([[ 61.71,  53.31, 398.7 ],\n",
       "       [ 59.07,  63.75, 390.  ],\n",
       "       [ 34.26,  61.14, 232.74],\n",
       "       ...,\n",
       "       [ 64.68,  67.17, 426.  ],\n",
       "       [ 49.8 ,  84.24, 324.9 ],\n",
       "       [ 61.8 ,  87.99, 420.3 ]])"
      ]
     },
     "execution_count": 14,
     "metadata": {},
     "output_type": "execute_result"
    }
   ],
   "execution_count": 14
  },
  {
   "metadata": {
    "ExecuteTime": {
     "end_time": "2024-09-27T02:34:50.167153Z",
     "start_time": "2024-09-27T02:34:50.163705Z"
    }
   },
   "cell_type": "code",
   "source": "transformer = FunctionTransformer(lambda x,a : x*a, validate = True, kw_args={'a':4})",
   "id": "85a93fca1b476081",
   "outputs": [],
   "execution_count": 15
  },
  {
   "metadata": {
    "ExecuteTime": {
     "end_time": "2024-09-27T02:34:58.088256Z",
     "start_time": "2024-09-27T02:34:58.078850Z"
    }
   },
   "cell_type": "code",
   "source": "transformer.fit_transform(df)",
   "id": "4413c36572779cc",
   "outputs": [
    {
     "data": {
      "text/plain": [
       "array([[ 82.28,  71.08, 531.6 ],\n",
       "       [ 78.76,  85.  , 520.  ],\n",
       "       [ 45.68,  81.52, 310.32],\n",
       "       ...,\n",
       "       [ 86.24,  89.56, 568.  ],\n",
       "       [ 66.4 , 112.32, 433.2 ],\n",
       "       [ 82.4 , 117.32, 560.4 ]])"
      ]
     },
     "execution_count": 16,
     "metadata": {},
     "output_type": "execute_result"
    }
   ],
   "execution_count": 16
  },
  {
   "metadata": {
    "ExecuteTime": {
     "end_time": "2024-09-27T02:37:01.712890Z",
     "start_time": "2024-09-27T02:37:01.707630Z"
    }
   },
   "cell_type": "code",
   "source": [
    "def f(x,a):\n",
    "    return x*a \n",
    "    \n",
    "transformer = FunctionTransformer(f, validate = True, kw_args={'a':4}, accept_sparse=True)\n",
    "transformer.fit_transform(df)"
   ],
   "id": "18d61258408310f8",
   "outputs": [
    {
     "data": {
      "text/plain": [
       "array([[ 82.28,  71.08, 531.6 ],\n",
       "       [ 78.76,  85.  , 520.  ],\n",
       "       [ 45.68,  81.52, 310.32],\n",
       "       ...,\n",
       "       [ 86.24,  89.56, 568.  ],\n",
       "       [ 66.4 , 112.32, 433.2 ],\n",
       "       [ 82.4 , 117.32, 560.4 ]])"
      ]
     },
     "execution_count": 18,
     "metadata": {},
     "output_type": "execute_result"
    }
   ],
   "execution_count": 18
  },
  {
   "metadata": {},
   "cell_type": "markdown",
   "source": [
    "### Learnings in 4. Applying an Arbitrary Transformation\n",
    "\n",
    "**Pseudocode:**\n",
    "1. Import necessary libraries.\n",
    "2. Load the dataset and preprocess it.\n",
    "3. Apply various arbitrary transformations using `FunctionTransformer` from `sklearn.preprocessing`.\n",
    "4. Observe the results of each transformation.\n",
    "\n",
    "**Code:**\n",
    "```python\n",
    "# Import necessary libraries\n",
    "from sklearn.preprocessing import FunctionTransformer\n",
    "import pandas as pd\n",
    "import numpy as np\n",
    "\n",
    "# Load and preprocess the dataset\n",
    "df = pd.read_csv('sample_dataset.csv').iloc[:, 0:3].dropna()\n",
    "\n",
    "# Apply a logarithmic transformation\n",
    "transformer = FunctionTransformer(np.log)\n",
    "log_transformed = transformer.fit_transform(df)\n",
    "\n",
    "# Apply a lambda function to multiply by 3\n",
    "transformer = FunctionTransformer(lambda x: x * 3, validate=True)\n",
    "lambda_transformed = transformer.fit_transform(df)\n",
    "\n",
    "# Apply a lambda function with an additional argument\n",
    "transformer = FunctionTransformer(lambda x, a: x * a, validate=True, kw_args={'a': 4})\n",
    "lambda_arg_transformed = transformer.fit_transform(df)\n",
    "\n",
    "# Define a custom function and apply it\n",
    "def f(x, a):\n",
    "    return x * a\n",
    "\n",
    "transformer = FunctionTransformer(f, validate=True, kw_args={'a': 4}, accept_sparse=True)\n",
    "custom_func_transformed = transformer.fit_transform(df)\n",
    "```\n",
    "\n",
    "**Learnings:**\n",
    "1. **Logarithmic Transformation:** Applied `np.log` to the dataset.\n",
    "2. **Lambda Function Transformation:** Used a lambda function to multiply the dataset by 3.\n",
    "3. **Lambda Function with Argument:** Used a lambda function with an additional argument to multiply the dataset by 4.\n",
    "4. **Custom Function Transformation:** Defined and applied a custom function to multiply the dataset by 4."
   ],
   "id": "a224c6af38f08ec8"
  },
  {
   "metadata": {},
   "cell_type": "markdown",
   "source": [
    "# 5. Exercises\n",
    "\n",
    "---\n",
    "\n",
    "**Exercise 1**\n",
    "\n",
    "- Load `sample_dataset.csv`\n",
    "- Consider only the first 3 columns and remove all the records that have missings\n",
    "- Calculate the mean value of `mean radius`\n",
    "- Use a `ColumnTransformer` to apply the following transformations:\n",
    "  - Binarize `mean radius` using a threshold equal to the mean value\n",
    "  - Binning of `mean texture` with 10 uniform bins and one-hot encoded dense output\n",
    "  - Binning of `mean perimeter` with 5 quantile bins and ordinal encoding output\n",
    "\n",
    "---\n",
    "\n",
    "**Exercise 2**\n",
    "\n",
    "- Load `sample_dataset.csv`\n",
    "- Consider only the first 3 columns and remove all the records that have missings\n",
    "- Use a `ColumnTransformer` to apply the following transformations:\n",
    "  - Yeo-Johnson power transform of `mean radius`\n",
    "  - Box-Cox transformation of `mean texture`\n",
    "  - Calculate the logarithm of `mean perimeter`\n",
    "\n",
    "---"
   ],
   "id": "a9ef1ce3c1b22968"
  },
  {
   "metadata": {},
   "cell_type": "code",
   "outputs": [],
   "execution_count": null,
   "source": "",
   "id": "f28f186392b41c63"
  },
  {
   "metadata": {},
   "cell_type": "code",
   "outputs": [],
   "execution_count": null,
   "source": "",
   "id": "9309736e3d9ff99"
  },
  {
   "metadata": {},
   "cell_type": "code",
   "outputs": [],
   "execution_count": null,
   "source": "",
   "id": "e3868088e52473d"
  },
  {
   "metadata": {},
   "cell_type": "code",
   "outputs": [],
   "execution_count": null,
   "source": "",
   "id": "f4309a2ba3cb31c8"
  },
  {
   "metadata": {},
   "cell_type": "code",
   "outputs": [],
   "execution_count": null,
   "source": "",
   "id": "603d1c81cdca530"
  },
  {
   "metadata": {},
   "cell_type": "code",
   "outputs": [],
   "execution_count": null,
   "source": "",
   "id": "33313616afc68bf7"
  },
  {
   "metadata": {},
   "cell_type": "markdown",
   "source": "End!",
   "id": "65c451a57f77057e"
  }
 ],
 "metadata": {
  "kernelspec": {
   "display_name": "Python (kaggle)",
   "language": "python",
   "name": "kaggle"
  },
  "language_info": {
   "codemirror_mode": {
    "name": "ipython",
    "version": 2
   },
   "file_extension": ".py",
   "mimetype": "text/x-python",
   "name": "python",
   "nbconvert_exporter": "python",
   "pygments_lexer": "ipython2",
   "version": "2.7.6"
  }
 },
 "nbformat": 4,
 "nbformat_minor": 5
}
